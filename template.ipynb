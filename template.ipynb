{
  "nbformat": 4,
  "nbformat_minor": 0,
  "metadata": {
    "colab": {
      "provenance": [],
      "generative_ai_disabled": true
    },
    "kernelspec": {
      "name": "python3",
      "display_name": "Python 3"
    },
    "language_info": {
      "name": "python"
    }
  },
  "cells": [
    {
      "cell_type": "markdown",
      "source": [
        "# Spectral regions\n",
        "\n",
        "In this tutorial you will calculate the irradinace in each of the spectral regions for the standard AM1.5 spectrum.\n",
        "\n",
        "The first step is to import a few Python packages."
      ],
      "metadata": {
        "id": "DiDZIH4qF8Zz"
      }
    },
    {
      "cell_type": "code",
      "execution_count": null,
      "metadata": {
        "id": "aeDcdGJXF2zx"
      },
      "outputs": [],
      "source": [
        "# Install pvlib on Google Colab as this is not a standard package.\n",
        "!pip install pvlib"
      ]
    },
    {
      "cell_type": "code",
      "source": [
        "import pvlib  # library for PV and solar calculations\n",
        "import pandas as pd  # library for data analysis\n",
        "import matplotlib.pyplot as plt  # library for plotting\n",
        "import numpy as np  # library for math and linear algebra"
      ],
      "metadata": {
        "id": "OnlyQx4iF7Bk"
      },
      "execution_count": null,
      "outputs": []
    },
    {
      "cell_type": "markdown",
      "source": [
        "## Step 1: Step title\n",
        "\n",
        "Explanation"
      ],
      "metadata": {
        "id": "5H58lPOuF-Ti"
      }
    },
    {
      "cell_type": "code",
      "source": [
        "# Write your code here\n"
      ],
      "metadata": {
        "id": "_ZkLQodxF7EX"
      },
      "execution_count": 1,
      "outputs": []
    },
    {
      "cell_type": "code",
      "source": [],
      "metadata": {
        "id": "Bp63c0t9F7HK"
      },
      "execution_count": null,
      "outputs": []
    },
    {
      "cell_type": "code",
      "source": [],
      "metadata": {
        "id": "-IbQ77zdF7Jw"
      },
      "execution_count": null,
      "outputs": []
    }
  ]
}
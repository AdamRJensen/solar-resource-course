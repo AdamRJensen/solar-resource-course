{
 "cells": [
  {
   "cell_type": "markdown",
   "metadata": {
    "id": "DiDZIH4qF8Zz"
   },
   "source": [
    "# Temporal irradiance variability\n",
    "\n",
    "In this tutorial you will calculate the temporal variability of GHI in Copenhagen for different time scales.\n",
    "\n",
    "The first step is to import a few Python packages."
   ]
  },
  {
   "cell_type": "code",
   "execution_count": null,
   "metadata": {
    "id": "aeDcdGJXF2zx"
   },
   "outputs": [],
   "source": [
    "# Install pvlib on Google Colab as this is not a standard package.\n",
    "!pip install pvlib"
   ]
  },
  {
   "cell_type": "code",
   "execution_count": 1,
   "metadata": {
    "id": "OnlyQx4iF7Bk"
   },
   "outputs": [],
   "source": [
    "import pvlib  # library for PV and solar calculations\n",
    "import pandas as pd  # library for data analysis\n",
    "import matplotlib.pyplot as plt  # library for plotting\n",
    "import numpy as np  # library for math and linear algebra"
   ]
  },
  {
   "cell_type": "markdown",
   "metadata": {
    "id": "5H58lPOuF-Ti"
   },
   "source": [
    "## Step 1: Download data for Copenhagen\n",
    "\n",
    "Download TMY data for Copenhagen using [``pvlib.iotools.get_pvgis_tmy``](https://pvlib-python.readthedocs.io/en/stable/reference/generated/pvlib.iotools.get_pvgis_tmy.html). Note that this function returns two items (data, meta); the first is the requested data and the second the relevant metadata."
   ]
  },
  {
   "cell_type": "code",
   "execution_count": 2,
   "metadata": {
    "id": "_ZkLQodxF7EX"
   },
   "outputs": [],
   "source": [
    "# Copenhagen coordinates\n",
    "latitude = 55.68\n",
    "longitude = 12.56\n",
    "\n",
    "# Get TMY from PVGIS (returns data, meta)\n",
    "data, meta = pvlib.iotools.get_pvgis_tmy(latitude=latitude, longitude=longitude)"
   ]
  },
  {
   "cell_type": "markdown",
   "metadata": {
    "id": "Bp63c0t9F7HK"
   },
   "source": [
    "## Step 2: Investigate the metadata and plot GHI\n",
    "\n",
    "Which months and years were used to create the TMY file for Copenhagen? Plot the GHI and visualy inspect the yearly variability."
   ]
  },
  {
   "cell_type": "code",
   "execution_count": 3,
   "metadata": {},
   "outputs": [],
   "source": [
    "# Write your code here\n",
    "\n"
   ]
  },
  {
   "cell_type": "markdown",
   "metadata": {},
   "source": [
    "## Step 3: Compute the diurnal coefficient of variation\n",
    "\n",
    "The diurnal coefficient of variation (CV) indicates how much that hour’s data varies relative to its mean across days. It can be calculated by dividing the standard deviation (STD) of the dataset by the mean value for each hour. What do you notice?"
   ]
  },
  {
   "cell_type": "code",
   "execution_count": 5,
   "metadata": {},
   "outputs": [
    {
     "data": {
      "text/plain": [
       "0      NaN\n",
       "1      NaN\n",
       "2      NaN\n",
       "3     4.11\n",
       "4     2.28\n",
       "5     1.52\n",
       "6     1.18\n",
       "7     0.98\n",
       "8     0.82\n",
       "9     0.75\n",
       "10    0.73\n",
       "11    0.73\n",
       "12    0.74\n",
       "13    0.77\n",
       "14    0.89\n",
       "15    1.00\n",
       "16    1.15\n",
       "17    1.39\n",
       "18    1.86\n",
       "19    2.86\n",
       "20     NaN\n",
       "21     NaN\n",
       "22     NaN\n",
       "23     NaN\n",
       "Name: cv, dtype: float64"
      ]
     },
     "execution_count": 5,
     "metadata": {},
     "output_type": "execute_result"
    }
   ],
   "source": [
    "data['hour'] = data.index.hour\n",
    "diurnal = pd.DataFrame(index=range(24))\n",
    "diurnal['mean'] = data.groupby('hour')['ghi'].mean()\n",
    "diurnal['std'] = data.groupby('hour')['ghi'].std()\n",
    "diurnal['cv'] = diurnal['std'] / diurnal['mean']\n",
    "\n",
    "diurnal['cv'].round(2)"
   ]
  },
  {
   "cell_type": "code",
   "execution_count": null,
   "metadata": {
    "id": "-IbQ77zdF7Jw"
   },
   "outputs": [],
   "source": []
  },
  {
   "cell_type": "code",
   "execution_count": null,
   "metadata": {},
   "outputs": [],
   "source": []
  },
  {
   "cell_type": "code",
   "execution_count": 6,
   "metadata": {},
   "outputs": [
    {
     "data": {
      "text/plain": [
       "0      NaN\n",
       "1     1.66\n",
       "2     1.61\n",
       "3     1.59\n",
       "4     1.65\n",
       "5     1.62\n",
       "6     1.67\n",
       "7     1.56\n",
       "8     1.58\n",
       "9     1.53\n",
       "10    1.58\n",
       "11    1.70\n",
       "12    1.58\n",
       "13    1.64\n",
       "14    1.56\n",
       "15    1.59\n",
       "16    1.70\n",
       "17    1.71\n",
       "18    1.71\n",
       "19    1.56\n",
       "20    1.75\n",
       "21    1.71\n",
       "22    1.78\n",
       "23    1.64\n",
       "24    1.75\n",
       "25    1.52\n",
       "26    1.62\n",
       "27    1.67\n",
       "28    1.66\n",
       "29    1.70\n",
       "30    1.59\n",
       "Name: cv, dtype: float64"
      ]
     },
     "execution_count": 6,
     "metadata": {},
     "output_type": "execute_result"
    }
   ],
   "source": [
    "data['day'] = data.index.day\n",
    "daily = pd.DataFrame(index=range(31))\n",
    "daily['mean'] = data.groupby('day')['ghi'].mean()\n",
    "daily['std'] = data.groupby('day')['ghi'].std()\n",
    "daily['cv'] = daily['std'] / daily['mean']\n",
    "\n",
    "daily['cv'].round(2)"
   ]
  },
  {
   "cell_type": "code",
   "execution_count": 18,
   "metadata": {},
   "outputs": [
    {
     "data": {
      "text/html": [
       "<div>\n",
       "<style scoped>\n",
       "    .dataframe tbody tr th:only-of-type {\n",
       "        vertical-align: middle;\n",
       "    }\n",
       "\n",
       "    .dataframe tbody tr th {\n",
       "        vertical-align: top;\n",
       "    }\n",
       "\n",
       "    .dataframe thead th {\n",
       "        text-align: right;\n",
       "    }\n",
       "</style>\n",
       "<table border=\"1\" class=\"dataframe\">\n",
       "  <thead>\n",
       "    <tr style=\"text-align: right;\">\n",
       "      <th></th>\n",
       "      <th>temp_air</th>\n",
       "      <th>relative_humidity</th>\n",
       "      <th>ghi</th>\n",
       "      <th>dni</th>\n",
       "      <th>dhi</th>\n",
       "      <th>IR(h)</th>\n",
       "      <th>wind_speed</th>\n",
       "      <th>wind_direction</th>\n",
       "      <th>pressure</th>\n",
       "      <th>hour</th>\n",
       "      <th>day</th>\n",
       "    </tr>\n",
       "    <tr>\n",
       "      <th>time(UTC)</th>\n",
       "      <th></th>\n",
       "      <th></th>\n",
       "      <th></th>\n",
       "      <th></th>\n",
       "      <th></th>\n",
       "      <th></th>\n",
       "      <th></th>\n",
       "      <th></th>\n",
       "      <th></th>\n",
       "      <th></th>\n",
       "      <th></th>\n",
       "    </tr>\n",
       "  </thead>\n",
       "  <tbody>\n",
       "    <tr>\n",
       "      <th>1990-01-01 00:00:00+00:00</th>\n",
       "      <td>2.45</td>\n",
       "      <td>91.61</td>\n",
       "      <td>0.0</td>\n",
       "      <td>0.0</td>\n",
       "      <td>0.0</td>\n",
       "      <td>20.12</td>\n",
       "      <td>7.13</td>\n",
       "      <td>169.0</td>\n",
       "      <td>100390.0</td>\n",
       "      <td>0</td>\n",
       "      <td>1</td>\n",
       "    </tr>\n",
       "    <tr>\n",
       "      <th>1990-01-01 01:00:00+00:00</th>\n",
       "      <td>2.42</td>\n",
       "      <td>91.98</td>\n",
       "      <td>0.0</td>\n",
       "      <td>0.0</td>\n",
       "      <td>0.0</td>\n",
       "      <td>21.96</td>\n",
       "      <td>6.33</td>\n",
       "      <td>164.0</td>\n",
       "      <td>100380.0</td>\n",
       "      <td>1</td>\n",
       "      <td>1</td>\n",
       "    </tr>\n",
       "    <tr>\n",
       "      <th>1990-01-01 02:00:00+00:00</th>\n",
       "      <td>2.39</td>\n",
       "      <td>92.35</td>\n",
       "      <td>0.0</td>\n",
       "      <td>0.0</td>\n",
       "      <td>0.0</td>\n",
       "      <td>23.80</td>\n",
       "      <td>5.53</td>\n",
       "      <td>160.0</td>\n",
       "      <td>100410.0</td>\n",
       "      <td>2</td>\n",
       "      <td>1</td>\n",
       "    </tr>\n",
       "    <tr>\n",
       "      <th>1990-01-01 03:00:00+00:00</th>\n",
       "      <td>2.36</td>\n",
       "      <td>92.71</td>\n",
       "      <td>0.0</td>\n",
       "      <td>0.0</td>\n",
       "      <td>0.0</td>\n",
       "      <td>25.65</td>\n",
       "      <td>4.72</td>\n",
       "      <td>150.0</td>\n",
       "      <td>100400.0</td>\n",
       "      <td>3</td>\n",
       "      <td>1</td>\n",
       "    </tr>\n",
       "    <tr>\n",
       "      <th>1990-01-01 04:00:00+00:00</th>\n",
       "      <td>2.32</td>\n",
       "      <td>93.08</td>\n",
       "      <td>0.0</td>\n",
       "      <td>0.0</td>\n",
       "      <td>0.0</td>\n",
       "      <td>27.49</td>\n",
       "      <td>3.92</td>\n",
       "      <td>146.0</td>\n",
       "      <td>100410.0</td>\n",
       "      <td>4</td>\n",
       "      <td>1</td>\n",
       "    </tr>\n",
       "    <tr>\n",
       "      <th>...</th>\n",
       "      <td>...</td>\n",
       "      <td>...</td>\n",
       "      <td>...</td>\n",
       "      <td>...</td>\n",
       "      <td>...</td>\n",
       "      <td>...</td>\n",
       "      <td>...</td>\n",
       "      <td>...</td>\n",
       "      <td>...</td>\n",
       "      <td>...</td>\n",
       "      <td>...</td>\n",
       "    </tr>\n",
       "    <tr>\n",
       "      <th>1990-12-31 19:00:00+00:00</th>\n",
       "      <td>2.62</td>\n",
       "      <td>89.77</td>\n",
       "      <td>0.0</td>\n",
       "      <td>0.0</td>\n",
       "      <td>0.0</td>\n",
       "      <td>10.91</td>\n",
       "      <td>11.14</td>\n",
       "      <td>168.0</td>\n",
       "      <td>102150.0</td>\n",
       "      <td>19</td>\n",
       "      <td>31</td>\n",
       "    </tr>\n",
       "    <tr>\n",
       "      <th>1990-12-31 20:00:00+00:00</th>\n",
       "      <td>2.58</td>\n",
       "      <td>90.14</td>\n",
       "      <td>0.0</td>\n",
       "      <td>0.0</td>\n",
       "      <td>0.0</td>\n",
       "      <td>12.75</td>\n",
       "      <td>10.34</td>\n",
       "      <td>168.0</td>\n",
       "      <td>102160.0</td>\n",
       "      <td>20</td>\n",
       "      <td>31</td>\n",
       "    </tr>\n",
       "    <tr>\n",
       "      <th>1990-12-31 21:00:00+00:00</th>\n",
       "      <td>2.55</td>\n",
       "      <td>90.50</td>\n",
       "      <td>0.0</td>\n",
       "      <td>0.0</td>\n",
       "      <td>0.0</td>\n",
       "      <td>14.60</td>\n",
       "      <td>9.53</td>\n",
       "      <td>168.0</td>\n",
       "      <td>102170.0</td>\n",
       "      <td>21</td>\n",
       "      <td>31</td>\n",
       "    </tr>\n",
       "    <tr>\n",
       "      <th>1990-12-31 22:00:00+00:00</th>\n",
       "      <td>2.52</td>\n",
       "      <td>90.87</td>\n",
       "      <td>0.0</td>\n",
       "      <td>0.0</td>\n",
       "      <td>0.0</td>\n",
       "      <td>16.44</td>\n",
       "      <td>8.73</td>\n",
       "      <td>168.0</td>\n",
       "      <td>102170.0</td>\n",
       "      <td>22</td>\n",
       "      <td>31</td>\n",
       "    </tr>\n",
       "    <tr>\n",
       "      <th>1990-12-31 23:00:00+00:00</th>\n",
       "      <td>2.49</td>\n",
       "      <td>91.24</td>\n",
       "      <td>0.0</td>\n",
       "      <td>0.0</td>\n",
       "      <td>0.0</td>\n",
       "      <td>18.28</td>\n",
       "      <td>7.93</td>\n",
       "      <td>168.0</td>\n",
       "      <td>102190.0</td>\n",
       "      <td>23</td>\n",
       "      <td>31</td>\n",
       "    </tr>\n",
       "  </tbody>\n",
       "</table>\n",
       "<p>8760 rows × 11 columns</p>\n",
       "</div>"
      ],
      "text/plain": [
       "                           temp_air  relative_humidity  ghi  dni  dhi  IR(h)  \\\n",
       "time(UTC)                                                                      \n",
       "1990-01-01 00:00:00+00:00      2.45              91.61  0.0  0.0  0.0  20.12   \n",
       "1990-01-01 01:00:00+00:00      2.42              91.98  0.0  0.0  0.0  21.96   \n",
       "1990-01-01 02:00:00+00:00      2.39              92.35  0.0  0.0  0.0  23.80   \n",
       "1990-01-01 03:00:00+00:00      2.36              92.71  0.0  0.0  0.0  25.65   \n",
       "1990-01-01 04:00:00+00:00      2.32              93.08  0.0  0.0  0.0  27.49   \n",
       "...                             ...                ...  ...  ...  ...    ...   \n",
       "1990-12-31 19:00:00+00:00      2.62              89.77  0.0  0.0  0.0  10.91   \n",
       "1990-12-31 20:00:00+00:00      2.58              90.14  0.0  0.0  0.0  12.75   \n",
       "1990-12-31 21:00:00+00:00      2.55              90.50  0.0  0.0  0.0  14.60   \n",
       "1990-12-31 22:00:00+00:00      2.52              90.87  0.0  0.0  0.0  16.44   \n",
       "1990-12-31 23:00:00+00:00      2.49              91.24  0.0  0.0  0.0  18.28   \n",
       "\n",
       "                           wind_speed  wind_direction  pressure  hour  day  \n",
       "time(UTC)                                                                   \n",
       "1990-01-01 00:00:00+00:00        7.13           169.0  100390.0     0    1  \n",
       "1990-01-01 01:00:00+00:00        6.33           164.0  100380.0     1    1  \n",
       "1990-01-01 02:00:00+00:00        5.53           160.0  100410.0     2    1  \n",
       "1990-01-01 03:00:00+00:00        4.72           150.0  100400.0     3    1  \n",
       "1990-01-01 04:00:00+00:00        3.92           146.0  100410.0     4    1  \n",
       "...                               ...             ...       ...   ...  ...  \n",
       "1990-12-31 19:00:00+00:00       11.14           168.0  102150.0    19   31  \n",
       "1990-12-31 20:00:00+00:00       10.34           168.0  102160.0    20   31  \n",
       "1990-12-31 21:00:00+00:00        9.53           168.0  102170.0    21   31  \n",
       "1990-12-31 22:00:00+00:00        8.73           168.0  102170.0    22   31  \n",
       "1990-12-31 23:00:00+00:00        7.93           168.0  102190.0    23   31  \n",
       "\n",
       "[8760 rows x 11 columns]"
      ]
     },
     "execution_count": 18,
     "metadata": {},
     "output_type": "execute_result"
    }
   ],
   "source": [
    "data"
   ]
  },
  {
   "cell_type": "code",
   "execution_count": null,
   "metadata": {},
   "outputs": [],
   "source": []
  },
  {
   "cell_type": "code",
   "execution_count": null,
   "metadata": {},
   "outputs": [],
   "source": []
  }
 ],
 "metadata": {
  "colab": {
   "generative_ai_disabled": true,
   "provenance": []
  },
  "kernelspec": {
   "display_name": "Python 3 (ipykernel)",
   "language": "python",
   "name": "python3"
  },
  "language_info": {
   "codemirror_mode": {
    "name": "ipython",
    "version": 3
   },
   "file_extension": ".py",
   "mimetype": "text/x-python",
   "name": "python",
   "nbconvert_exporter": "python",
   "pygments_lexer": "ipython3",
   "version": "3.11.9"
  }
 },
 "nbformat": 4,
 "nbformat_minor": 4
}

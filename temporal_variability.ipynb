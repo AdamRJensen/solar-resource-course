{
 "cells": [
  {
   "cell_type": "markdown",
   "metadata": {
    "id": "DiDZIH4qF8Zz"
   },
   "source": [
    "# Temporal irradiance variability\n",
    "\n",
    "In this tutorial you will calculate the temporal variability of GHI in Copenhagen.\n",
    "\n",
    "The first step is to import a few Python packages."
   ]
  },
  {
   "cell_type": "code",
   "execution_count": null,
   "metadata": {
    "id": "aeDcdGJXF2zx"
   },
   "outputs": [],
   "source": [
    "# Install pvlib on Google Colab as this is not a standard package.\n",
    "!pip install pvlib"
   ]
  },
  {
   "cell_type": "code",
   "execution_count": 1,
   "metadata": {
    "id": "OnlyQx4iF7Bk"
   },
   "outputs": [],
   "source": [
    "import pvlib  # library for PV and solar calculations\n",
    "import pandas as pd  # library for data analysis\n",
    "import matplotlib.pyplot as plt  # library for plotting\n",
    "import numpy as np  # library for math and linear algebra"
   ]
  },
  {
   "cell_type": "markdown",
   "metadata": {
    "id": "5H58lPOuF-Ti"
   },
   "source": [
    "## Step 1: Download data for Copenhagen\n",
    "\n",
    "Download TMY data for Copenhagen using [``pvlib.iotools.get_pvgis_tmy``](https://pvlib-python.readthedocs.io/en/stable/reference/generated/pvlib.iotools.get_pvgis_tmy.html). Note that this function returns two items (data, meta); the first is the requested data and the second the relevant metadata.\n",
    "\n",
    "*Note that it is possible to specify which years to use for generating the TMY, although the period has to cover at least 10 years. Use the parameters ``startyear`` and ``endyear`` to specify the years from 2005 to 2023.*"
   ]
  },
  {
   "cell_type": "code",
   "execution_count": 4,
   "metadata": {
    "id": "_ZkLQodxF7EX"
   },
   "outputs": [],
   "source": [
    "# Copenhagen coordinates\n",
    "latitude = 55.68\n",
    "longitude = 12.56\n",
    "\n",
    "# Get TMY from PVGIS (returns data, meta)\n",
    "tmy, meta = "
   ]
  },
  {
   "cell_type": "markdown",
   "metadata": {
    "id": "Bp63c0t9F7HK"
   },
   "source": [
    "## Step 2: Which months were used to generate the TMY?\n",
    "\n",
    "A TMY file contains 12 months of data, where each month is taken from a different year. Inspect the metadata object to determine which month was taken from which year."
   ]
  },
  {
   "cell_type": "code",
   "execution_count": 7,
   "metadata": {},
   "outputs": [],
   "source": [
    "# Write your code here\n"
   ]
  },
  {
   "cell_type": "markdown",
   "metadata": {},
   "source": [
    "## Step 3: Plot the GHI\n",
    "\n",
    "Plot the GHI and visually inspect the seasonal variability. Can you tell if this is an average year?"
   ]
  },
  {
   "cell_type": "code",
   "execution_count": 9,
   "metadata": {},
   "outputs": [],
   "source": [
    "# write your code here"
   ]
  },
  {
   "cell_type": "markdown",
   "metadata": {},
   "source": [
    "## Step 4: Interannual variability\n",
    "\n",
    "Next, let's compare the interannual variability and compare with the irradiance in the TMY file.\n",
    "\n",
    "To do this, download hourly data from 2005 to 2023 for Copenhagen using [``pvlib.iotools.get_pvgis_hourly``](https://pvlib-python.readthedocs.io/en/stable/reference/generated/pvlib.iotools.get_pvgis_hourly.html). Note that ``pvgis`` returns the POA irradiance. However, setting a ``surface_tilt`` of zero, will return the POA for a horizontal surface (i.e., the GHI). Note that it also returns the irradiance components (i.e., direct and diffuse) so to find the GHI the two components need to be added.\n",
    "\n",
    "Perform the following calculations:\n",
    "1. Calculate and plot the yearly mean GHI\n",
    "2. Identify the years with the lowest and highest mean GHI\n",
    "3. Plot the mean GHI value from the TMY file\n",
    "4. Assess whether the TMY file represents the long term average?"
   ]
  },
  {
   "cell_type": "code",
   "execution_count": 10,
   "metadata": {},
   "outputs": [],
   "source": [
    "# Write your code here\n",
    "data, meta = \n",
    "\n",
    "data['ghi'] = "
   ]
  },
  {
   "cell_type": "markdown",
   "metadata": {},
   "source": [
    "## Step 5: Monthly variability\n",
    "\n",
    "Calculate the **Coefficient Of Variation** (COV) of the daily average irradiance for the TMY dataset for the long-term time series.\n",
    "\n",
    "Which dataset do you expect to have the largest coefficient of variation?"
   ]
  },
  {
   "cell_type": "code",
   "execution_count": 24,
   "metadata": {},
   "outputs": [
    {
     "name": "stdout",
     "output_type": "stream",
     "text": [
      "Long term COV: 0.81\n",
      "TMY COV: 0.78\n"
     ]
    }
   ],
   "source": [
    "# Write your code here\n",
    "data_daily = data.resample('1d').mean()\n",
    "tmy_daily = tmy.resample('1d').mean()\n",
    "\n",
    "data_daily_cov = \n",
    "tmy_daily_cov = \n",
    "\n",
    "print(f\"Long term COV: {data_daily_cov:1.2f}\")\n",
    "print(f\"TMY COV: {tmy_daily_cov:1.2f}\")"
   ]
  },
  {
   "cell_type": "code",
   "execution_count": null,
   "metadata": {},
   "outputs": [],
   "source": []
  }
 ],
 "metadata": {
  "colab": {
   "generative_ai_disabled": true,
   "provenance": []
  },
  "kernelspec": {
   "display_name": "Python 3 (ipykernel)",
   "language": "python",
   "name": "python3"
  },
  "language_info": {
   "codemirror_mode": {
    "name": "ipython",
    "version": 3
   },
   "file_extension": ".py",
   "mimetype": "text/x-python",
   "name": "python",
   "nbconvert_exporter": "python",
   "pygments_lexer": "ipython3",
   "version": "3.11.9"
  }
 },
 "nbformat": 4,
 "nbformat_minor": 4
}

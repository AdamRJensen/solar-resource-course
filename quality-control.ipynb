{
 "cells": [
  {
   "cell_type": "markdown",
   "id": "e56d7ab5-f3af-4718-bff8-40f91686da3a",
   "metadata": {},
   "source": [
    "# Quality control exercise - temporal resolution"
   ]
  },
  {
   "cell_type": "code",
   "execution_count": null,
   "id": "312b2e3d-f375-4b4d-9b25-657fbdd8ef2b",
   "metadata": {},
   "outputs": [],
   "source": [
    "In this exercise we will investiate the affect of temporal resolution on quality control alorithms.\n",
    "\n",
    "\n"
   ]
  },
  {
   "cell_type": "code",
   "execution_count": null,
   "id": "d54fb172-4af7-4c26-b62c-7bb60520ba3a",
   "metadata": {},
   "outputs": [],
   "source": []
  },
  {
   "cell_type": "markdown",
   "id": "35cdcc77-6071-430d-8bac-0566033d299c",
   "metadata": {},
   "source": [
    "> Temporal resolution has a significant influence on the plausibility of irradiance measurements (Long and Shi 2008). Generally, the longer the data’s averaging time, the narrower the testing limits can be. For instance, the maximum possible irradiance is lower for data with 15-minute resolution than for data with 1-minute resolution. This is due in part because the short-term variability is averaged out over longer time steps (e.g., differences in sensor time response) and because of the occurrence of cloud enhancement events, which are noticeable in 1-minute data but not detectable at averaging times of 15 minutes or longer."
   ]
  },
  {
   "cell_type": "markdown",
   "id": "32352e1d-f299-457e-8dc4-8127691fa4af",
   "metadata": {},
   "source": [
    "How does closure equation agreement improve if you resmaple data to 10s, 1min, 5min, 10 min?"
   ]
  },
  {
   "cell_type": "code",
   "execution_count": null,
   "id": "062b2448-dcb3-4f1a-80fe-52bb46f18405",
   "metadata": {},
   "outputs": [],
   "source": []
  }
 ],
 "metadata": {
  "kernelspec": {
   "display_name": "Python 3 (ipykernel)",
   "language": "python",
   "name": "python3"
  },
  "language_info": {
   "codemirror_mode": {
    "name": "ipython",
    "version": 3
   },
   "file_extension": ".py",
   "mimetype": "text/x-python",
   "name": "python",
   "nbconvert_exporter": "python",
   "pygments_lexer": "ipython3",
   "version": "3.11.7"
  }
 },
 "nbformat": 4,
 "nbformat_minor": 5
}

{
 "cells": [
  {
   "cell_type": "markdown",
   "id": "d98db03e-b905-442b-99ca-e75f21552d13",
   "metadata": {},
   "source": [
    "# Investigating radiometer data\n",
    "\n",
    "In this exercise, you will analyze data from a number of different radiometers and learn to determine the calibration coefficient of a pyranometer."
   ]
  },
  {
   "cell_type": "code",
   "execution_count": null,
   "id": "71b16c27-bb71-4e04-8dae-f8de8da8b4d5",
   "metadata": {
    "editable": true,
    "slideshow": {
     "slide_type": ""
    },
    "tags": []
   },
   "outputs": [],
   "source": [
    "# Install pvlib on Google Colab as this is not a standard package.\n",
    "!pip install pvlib"
   ]
  },
  {
   "cell_type": "code",
   "execution_count": 2,
   "id": "6d738ab4-5c42-4d7c-9376-7403443e88e6",
   "metadata": {},
   "outputs": [],
   "source": [
    "import pvlib  # library for PV and solar calculations\n",
    "import pandas as pd  # library for data analysis\n",
    "import matplotlib.pyplot as plt  # library for "
   ]
  },
  {
   "cell_type": "markdown",
   "id": "b33418bd-85e1-4c6a-9590-e2cc76e13e8e",
   "metadata": {},
   "source": [
    "## Step 1: Read dataset\n",
    "\n",
    "The example dataset that we will be investigating is available [here](https://raw.githubusercontent.com/AdamRJensen/solar-resource-course/refs/heads/main/example_solar_radiation_dataset.csv). The dataset contains a subset of the measured parameters from DTU's solar radiometer station in Lyngby during the period 2025-08-26 to 2025-09-03.\n",
    "\n",
    "The first step is to load the data into a pandas DataFrame:"
   ]
  },
  {
   "cell_type": "code",
   "execution_count": 8,
   "id": "c6374365-0f51-417f-b681-a024a94a1223",
   "metadata": {},
   "outputs": [
    {
     "data": {
      "text/html": [
       "<div>\n",
       "<style scoped>\n",
       "    .dataframe tbody tr th:only-of-type {\n",
       "        vertical-align: middle;\n",
       "    }\n",
       "\n",
       "    .dataframe tbody tr th {\n",
       "        vertical-align: top;\n",
       "    }\n",
       "\n",
       "    .dataframe thead th {\n",
       "        text-align: right;\n",
       "    }\n",
       "</style>\n",
       "<table border=\"1\" class=\"dataframe\">\n",
       "  <thead>\n",
       "    <tr style=\"text-align: right;\">\n",
       "      <th></th>\n",
       "      <th>CHP1_140049_DNI_mV</th>\n",
       "      <th>SMP22_200060_DHI_Wm2</th>\n",
       "      <th>CMP11_128767_GHI_mV</th>\n",
       "      <th>StarSchenk_7773_GHI_mV</th>\n",
       "      <th>solar_zenith</th>\n",
       "      <th>solar_azimuth</th>\n",
       "    </tr>\n",
       "    <tr>\n",
       "      <th>Time</th>\n",
       "      <th></th>\n",
       "      <th></th>\n",
       "      <th></th>\n",
       "      <th></th>\n",
       "      <th></th>\n",
       "      <th></th>\n",
       "    </tr>\n",
       "  </thead>\n",
       "  <tbody>\n",
       "    <tr>\n",
       "      <th>2025-08-26 00:00:00+00:00</th>\n",
       "      <td>-0.002</td>\n",
       "      <td>-1.00</td>\n",
       "      <td>-0.014</td>\n",
       "      <td>-0.005</td>\n",
       "      <td>113.059</td>\n",
       "      <td>12.894</td>\n",
       "    </tr>\n",
       "    <tr>\n",
       "      <th>2025-08-26 00:01:00+00:00</th>\n",
       "      <td>-0.002</td>\n",
       "      <td>-1.00</td>\n",
       "      <td>-0.013</td>\n",
       "      <td>-0.005</td>\n",
       "      <td>113.027</td>\n",
       "      <td>13.159</td>\n",
       "    </tr>\n",
       "    <tr>\n",
       "      <th>2025-08-26 00:02:00+00:00</th>\n",
       "      <td>-0.002</td>\n",
       "      <td>-1.00</td>\n",
       "      <td>-0.013</td>\n",
       "      <td>-0.005</td>\n",
       "      <td>112.995</td>\n",
       "      <td>13.424</td>\n",
       "    </tr>\n",
       "    <tr>\n",
       "      <th>2025-08-26 00:03:00+00:00</th>\n",
       "      <td>-0.002</td>\n",
       "      <td>-1.01</td>\n",
       "      <td>-0.013</td>\n",
       "      <td>-0.005</td>\n",
       "      <td>112.962</td>\n",
       "      <td>13.689</td>\n",
       "    </tr>\n",
       "    <tr>\n",
       "      <th>2025-08-26 00:04:00+00:00</th>\n",
       "      <td>-0.002</td>\n",
       "      <td>-1.00</td>\n",
       "      <td>-0.013</td>\n",
       "      <td>-0.005</td>\n",
       "      <td>112.929</td>\n",
       "      <td>13.954</td>\n",
       "    </tr>\n",
       "  </tbody>\n",
       "</table>\n",
       "</div>"
      ],
      "text/plain": [
       "                           CHP1_140049_DNI_mV  SMP22_200060_DHI_Wm2  \\\n",
       "Time                                                                  \n",
       "2025-08-26 00:00:00+00:00              -0.002                 -1.00   \n",
       "2025-08-26 00:01:00+00:00              -0.002                 -1.00   \n",
       "2025-08-26 00:02:00+00:00              -0.002                 -1.00   \n",
       "2025-08-26 00:03:00+00:00              -0.002                 -1.01   \n",
       "2025-08-26 00:04:00+00:00              -0.002                 -1.00   \n",
       "\n",
       "                           CMP11_128767_GHI_mV  StarSchenk_7773_GHI_mV  \\\n",
       "Time                                                                     \n",
       "2025-08-26 00:00:00+00:00               -0.014                  -0.005   \n",
       "2025-08-26 00:01:00+00:00               -0.013                  -0.005   \n",
       "2025-08-26 00:02:00+00:00               -0.013                  -0.005   \n",
       "2025-08-26 00:03:00+00:00               -0.013                  -0.005   \n",
       "2025-08-26 00:04:00+00:00               -0.013                  -0.005   \n",
       "\n",
       "                           solar_zenith  solar_azimuth  \n",
       "Time                                                    \n",
       "2025-08-26 00:00:00+00:00       113.059         12.894  \n",
       "2025-08-26 00:01:00+00:00       113.027         13.159  \n",
       "2025-08-26 00:02:00+00:00       112.995         13.424  \n",
       "2025-08-26 00:03:00+00:00       112.962         13.689  \n",
       "2025-08-26 00:04:00+00:00       112.929         13.954  "
      ]
     },
     "execution_count": 8,
     "metadata": {},
     "output_type": "execute_result"
    }
   ],
   "source": [
    "url = 'https://raw.githubusercontent.com/AdamRJensen/solar-resource-course/refs/heads/main/example_solar_radiation_dataset.csv'\n",
    "\n",
    "data = pd.read_csv(url, index_col=[0], parse_dates=[0])\n",
    "\n",
    "data.head()"
   ]
  },
  {
   "cell_type": "markdown",
   "id": "ca1ec782-bcb8-4254-abde-ec8d3ba62843",
   "metadata": {},
   "source": [
    "## Step 2: Convert analog signal to irradiance\n",
    "\n",
    "Convert the analog signal of the following parameters to irradiance (W/m$^2$):\n",
    "- CMP11_128767_GHI_mV\n",
    "- CHP1_140049_DNI_mV\n",
    "\n",
    "The calibration values can be found from the calibration sheet on Learn."
   ]
  },
  {
   "cell_type": "code",
   "execution_count": null,
   "id": "c1d7382d-7dfc-4234-9f57-fdb87ef4b8e7",
   "metadata": {},
   "outputs": [],
   "source": [
    "# Update the code block\n",
    "\n",
    "# Note the naming convention (the last part of the name denotes the unit)\n",
    "df['CHP1_140049_DNI_Wm2'] = \n",
    "\n",
    "df['CMP11_128767_GHI_Wm2'] = "
   ]
  },
  {
   "cell_type": "markdown",
   "id": "b0f15a50-f696-4f65-89bd-9c334afa1cd5",
   "metadata": {},
   "source": [
    "## Step 3: Calculate GHI from measured DHI and DNI"
   ]
  },
  {
   "cell_type": "code",
   "execution_count": null,
   "id": "8804bf8d-631e-4bf0-8658-7a7479d99592",
   "metadata": {},
   "outputs": [],
   "source": [
    "# Write your code here"
   ]
  },
  {
   "cell_type": "markdown",
   "id": "515456af-c7c5-407c-8d05-dbfa12823c9a",
   "metadata": {},
   "source": [
    "## Step 4: Determine calibration coefficient for StarSchenk pyranometer\n",
    "\n",
    "The dataset contains the analog output of an additional pyranometer (``StarSchenk_7773_GHI_mV``). The StarSchenk pyranometer was used by the Danish Meteorological Institute (DMI) from 2001 to 2024.\n",
    "\n",
    "Since the calibration coefficient of the instrument is unknown, you have to determine this value by comparing it to the other high-quality measurements."
   ]
  },
  {
   "cell_type": "code",
   "execution_count": 9,
   "id": "1a90470c-15c1-4197-b22c-212369278d12",
   "metadata": {},
   "outputs": [],
   "source": [
    "# Write your code here"
   ]
  },
  {
   "cell_type": "markdown",
   "id": "eff1648a-a35a-4feb-83fa-57495c549e75",
   "metadata": {},
   "source": [
    "## Step 5: Investigate the cosine response of the StartSchenk pyranometer\n",
    "\n",
    "The cosine response of the pyranometer can be determined by plotting the calibration coefficient as a function of the solar zenith angle:"
   ]
  },
  {
   "cell_type": "code",
   "execution_count": null,
   "id": "2c0cd731-41fc-4446-8cd1-472f16d05f7c",
   "metadata": {},
   "outputs": [],
   "source": [
    "# Write your code here"
   ]
  }
 ],
 "metadata": {
  "kernelspec": {
   "display_name": "Python 3 (ipykernel)",
   "language": "python",
   "name": "python3"
  },
  "language_info": {
   "codemirror_mode": {
    "name": "ipython",
    "version": 3
   },
   "file_extension": ".py",
   "mimetype": "text/x-python",
   "name": "python",
   "nbconvert_exporter": "python",
   "pygments_lexer": "ipython3",
   "version": "3.11.7"
  }
 },
 "nbformat": 4,
 "nbformat_minor": 5
}

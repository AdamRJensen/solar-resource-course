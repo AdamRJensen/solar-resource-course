{
 "cells": [
  {
   "cell_type": "markdown",
   "id": "e56d7ab5-f3af-4718-bff8-40f91686da3a",
   "metadata": {},
   "source": [
    "# Quality control - BSRN checks"
   ]
  },
  {
   "cell_type": "markdown",
   "id": "141bf702-e7fe-4a71-ba1e-6d3610f56b51",
   "metadata": {},
   "source": [
    "The most commonly applied quality control (QC) checks are the [BSRN recommended QC tests V2](https://bsrn.awi.de/fileadmin/user_upload/bsrn.awi.de/Publications/BSRN_recommended_QC_tests_V2.pdf) (these are the QC checks introduced in the lecture notes). The advantage of such automatic checks is that they are easy to implement, applicable to stations in most climates, and do not require extensive experience of the analyst.\n",
    "\n",
    "In this exercise, you will learn how to apply the BSRN quality to solar irradiance measurements."
   ]
  },
  {
   "cell_type": "code",
   "execution_count": null,
   "id": "6b9faabf-0700-486b-b2b5-682e32e319ff",
   "metadata": {},
   "outputs": [],
   "source": [
    "# Install pvlib on Google Colab as this is not a standard package.\n",
    "!pip install pvlib"
   ]
  },
  {
   "cell_type": "code",
   "execution_count": 2,
   "id": "273ef14f-93f3-4ea3-a09f-1c097389c76c",
   "metadata": {},
   "outputs": [],
   "source": [
    "import pvlib  # library for PV and solar calculations\n",
    "import pandas as pd  # library for data analysis\n",
    "import matplotlib.pyplot as plt  # library for plotting\n",
    "import numpy as np  # library for math and linear algebra"
   ]
  },
  {
   "cell_type": "markdown",
   "id": "d4b8ea02-7f5a-4171-86a1-3cc575917917",
   "metadata": {},
   "source": [
    "## Step 1: Read dataset\n",
    "The example dataset contains data of GHI, DHI, and DNI from DTU's Solar Radiation Monitoring Station for August 2025.\n",
    "\n",
    "A number of plausible errors have been induced!"
   ]
  },
  {
   "cell_type": "code",
   "execution_count": null,
   "id": "5e7419af-b3ee-4cff-99a7-20675067da16",
   "metadata": {},
   "outputs": [],
   "source": [
    "file_url = 'https://raw.githubusercontent.com/AdamRJensen/solar-resource-course/refs/heads/main/data/example_dataset_with_errors.csv'\n",
    "\n",
    "data = pd.read_csv(file_url, index_col=[0], parse_dates=[0])\n",
    "\n",
    "data.head()"
   ]
  },
  {
   "cell_type": "markdown",
   "id": "e74a3ecf-53c6-4ece-9151-78e665a41621",
   "metadata": {},
   "source": [
    "## Step 1: Calculate extraterrestrial irradiance\n",
    "\n",
    "Use the pvlib-python function [``pvlib.irradiance.get_extra_radiation``](https://pvlib-python.readthedocs.io/en/stable/reference/generated/pvlib.irradiance.get_extra_radiation.html) to calculate extraterrestrial irradiance.\n",
    "\n",
    "*Hint: for the ``datetime_or_doy`` input to the function you can simply use ``data.index``.*"
   ]
  },
  {
   "cell_type": "code",
   "execution_count": null,
   "id": "3f19cdaa-892b-4071-a26c-fefc3fcb7f85",
   "metadata": {},
   "outputs": [],
   "source": [
    "# write your code here\n",
    "data['ETR'] = "
   ]
  },
  {
   "cell_type": "markdown",
   "id": "24f354f0-4254-4d1e-afe7-7cdb441e67a3",
   "metadata": {},
   "source": [
    "## Step 3: Calculate the BSRN limits\n",
    "\n",
    "In this exercise, we will be using the **extremely rare limits**. The equations for the limits can be found in the lecture note for Lesson 3.\n",
    "\n",
    "The first step is to calculate the upper limits (the lower limits are simply a fixed values):"
   ]
  },
  {
   "cell_type": "code",
   "execution_count": null,
   "id": "3b274421-a2ba-457c-9777-a8e025aa98f4",
   "metadata": {},
   "outputs": [],
   "source": [
    "# Write the code for the upper limits:\n",
    "\n",
    "data['ghi_upper_limit'] = \n",
    "data['dhi_upper_limit'] = \n",
    "data['dni_upper_limit'] = "
   ]
  },
  {
   "cell_type": "markdown",
   "id": "ec8de55a-7c18-4b7e-b2c4-2cbc3e50d635",
   "metadata": {},
   "source": [
    "## Step 4: Calculate limit flags\n",
    "Once the limits have been derived, we can now compute the QC limit flags for each component. Remember that a flag should be True (1) if the measurement is suspicious or False (0) if the measurement seems plausible.\n",
    "\n",
    "*Hint: Since we are comparing two conditions (whether the irradiance is above or below a threshold), we need to either use the ``&`` for AND if both conditions need to be true or   ``|`` for OR if only one condition needs to be true."
   ]
  },
  {
   "cell_type": "code",
   "execution_count": null,
   "id": "c8d271cf-6ae3-403f-a1d7-c01978606d0e",
   "metadata": {},
   "outputs": [],
   "source": [
    "data['ghi_limit_flag'] = (data['ghi'] < -4) | (data['ghi'] > data['ghi_upper_limit'])\n",
    "data['dhi_limit_flag'] = \n",
    "data['dni_limit_flag'] = "
   ]
  },
  {
   "cell_type": "markdown",
   "id": "c80c2a57-921b-4061-810b-a7a7e0fab056",
   "metadata": {},
   "source": [
    "## Step 5: Calculate calculated GHI\n",
    "\n",
    "For the following QC checks we need the calculated GHI from DHI and DNI (remember the closure equation?)."
   ]
  },
  {
   "cell_type": "code",
   "execution_count": null,
   "id": "46b636a2-7531-480c-ba6a-e38f981826fd",
   "metadata": {},
   "outputs": [],
   "source": [
    "# Write your code here\n",
    "data['ghi_calc'] = "
   ]
  },
  {
   "cell_type": "markdown",
   "id": "11d388b0-53ce-44de-a13f-474a308c1612",
   "metadata": {},
   "source": [
    "## Step 7: Comparison QC checks\n",
    "\n",
    "The BSRN QC checks also include two comparison checks: closure equation and diffuse fraction/ratio."
   ]
  },
  {
   "cell_type": "markdown",
   "id": "b7e56895-8f82-4f9d-b308-b8cb2787c33d",
   "metadata": {},
   "source": []
  },
  {
   "cell_type": "markdown",
   "id": "1dfe65eb-ee0a-40a1-8723-145fe611d71b",
   "metadata": {},
   "source": [
    "## Extra\n",
    "\n",
    "You have now successfully applied the BSRN QC checks and significantly enhanced your dataset by removing potentially erroneous data.\n",
    "\n",
    "However, to improve future data collection, it is necessary to understand what went wrong with our measurements.\n",
    "\n",
    "Therefore, the final step is to visualize the data and figure out what went wrong. Note, 5 different errors were added to the dataset!"
   ]
  },
  {
   "cell_type": "code",
   "execution_count": 4,
   "id": "893ac000-1e4f-4e38-9063-2585698fab5e",
   "metadata": {},
   "outputs": [],
   "source": [
    "# Explore the data visually here"
   ]
  },
  {
   "cell_type": "code",
   "execution_count": null,
   "id": "d9ad4375-7327-48a6-b7da-275d0352cd3a",
   "metadata": {},
   "outputs": [],
   "source": []
  }
 ],
 "metadata": {
  "kernelspec": {
   "display_name": "Python 3 (ipykernel)",
   "language": "python",
   "name": "python3"
  },
  "language_info": {
   "codemirror_mode": {
    "name": "ipython",
    "version": 3
   },
   "file_extension": ".py",
   "mimetype": "text/x-python",
   "name": "python",
   "nbconvert_exporter": "python",
   "pygments_lexer": "ipython3",
   "version": "3.11.7"
  }
 },
 "nbformat": 4,
 "nbformat_minor": 5
}

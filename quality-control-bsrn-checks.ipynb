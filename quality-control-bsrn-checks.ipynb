{
 "cells": [
  {
   "cell_type": "markdown",
   "id": "e56d7ab5-f3af-4718-bff8-40f91686da3a",
   "metadata": {},
   "source": [
    "# Quality control - BSRN checks"
   ]
  },
  {
   "cell_type": "markdown",
   "id": "141bf702-e7fe-4a71-ba1e-6d3610f56b51",
   "metadata": {},
   "source": [
    "The most commonly applied quality control (QC) checks are the [BSRN recommended QC tests V2](https://bsrn.awi.de/fileadmin/user_upload/bsrn.awi.de/Publications/BSRN_recommended_QC_tests_V2.pdf) (these are the QC checks introduced in the lecture notes). The advantage of such automatic checks is that they are easy to implement, applicable to stations in most climates, and do not require extensive experience of the analyst.\n",
    "\n",
    "In this exercise, you will learn how to apply the BSRN quality to solar irradiance measurements."
   ]
  },
  {
   "cell_type": "code",
   "execution_count": null,
   "id": "6b9faabf-0700-486b-b2b5-682e32e319ff",
   "metadata": {},
   "outputs": [],
   "source": [
    "# Install pvlib on Google Colab as this is not a standard package.\n",
    "!pip install pvlib"
   ]
  },
  {
   "cell_type": "code",
   "execution_count": 2,
   "id": "273ef14f-93f3-4ea3-a09f-1c097389c76c",
   "metadata": {},
   "outputs": [],
   "source": [
    "import pvlib  # library for PV and solar calculations\n",
    "import pandas as pd  # library for data analysis\n",
    "import matplotlib.pyplot as plt  # library for plotting\n",
    "import numpy as np  # library for math and linear algebra"
   ]
  },
  {
   "cell_type": "markdown",
   "id": "d4b8ea02-7f5a-4171-86a1-3cc575917917",
   "metadata": {},
   "source": [
    "## Step 1: Read dataset\n",
    "The example dataset contains data of GHI, DHI, and DNI from DTU's Solar Radiation Monitoring Station for August 2025.\n",
    "\n",
    "Note, a number of severe but plausible errors have been added to the dataset!"
   ]
  },
  {
   "cell_type": "code",
   "execution_count": null,
   "id": "5e7419af-b3ee-4cff-99a7-20675067da16",
   "metadata": {},
   "outputs": [],
   "source": [
    "file_url = 'https://raw.githubusercontent.com/AdamRJensen/solar-resource-course/refs/heads/main/data/example_dataset_with_errors.csv'\n",
    "\n",
    "data = pd.read_csv(file_url, index_col=[0], parse_dates=[0])\n",
    "\n",
    "data.head()"
   ]
  },
  {
   "cell_type": "markdown",
   "id": "e74a3ecf-53c6-4ece-9151-78e665a41621",
   "metadata": {},
   "source": [
    "## Step 2: Calculate extraterrestrial irradiance\n",
    "\n",
    "Use the pvlib-python function [``pvlib.irradiance.get_extra_radiation``](https://pvlib-python.readthedocs.io/en/stable/reference/generated/pvlib.irradiance.get_extra_radiation.html) to calculate extraterrestrial irradiance.\n",
    "\n",
    "*Hint: for the ``datetime_or_doy`` input to the function you can simply use ``data.index``.*"
   ]
  },
  {
   "cell_type": "code",
   "execution_count": null,
   "id": "3f19cdaa-892b-4071-a26c-fefc3fcb7f85",
   "metadata": {},
   "outputs": [],
   "source": [
    "# write your code here\n",
    "data['ETR'] = "
   ]
  },
  {
   "cell_type": "markdown",
   "id": "24f354f0-4254-4d1e-afe7-7cdb441e67a3",
   "metadata": {},
   "source": [
    "## Step 3: Calculate the BSRN limits\n",
    "\n",
    "In this exercise, we will be using the **extremely rare limits**. The equations for the limits can be found in the lecture note for Lesson 3.\n",
    "\n",
    "The first step is to calculate the upper limits. We don't need to calculate the lower limits, as they are simply a fixed value."
   ]
  },
  {
   "cell_type": "code",
   "execution_count": null,
   "id": "3b274421-a2ba-457c-9777-a8e025aa98f4",
   "metadata": {},
   "outputs": [],
   "source": [
    "# Write the code for the upper limits:\n",
    "\n",
    "data['ghi_upper_limit'] = \n",
    "data['dhi_upper_limit'] = \n",
    "data['dni_upper_limit'] = "
   ]
  },
  {
   "cell_type": "markdown",
   "id": "ec8de55a-7c18-4b7e-b2c4-2cbc3e50d635",
   "metadata": {},
   "source": [
    "## Step 4: Calculate limit flags\n",
    "Once the limits have been derived, we can now compute the limit flags for each component. Remember that a flag should be True (1) if the measurement is suspicious or False (0) if the measurement seems plausible.\n",
    "\n",
    "*Hint: Since we are comparing two conditions (whether the irradiance is above or below a threshold), we need to use either the ``&`` for AND if both conditions need to be true or   ``|`` for OR if only one condition needs to be true.*"
   ]
  },
  {
   "cell_type": "code",
   "execution_count": null,
   "id": "c8d271cf-6ae3-403f-a1d7-c01978606d0e",
   "metadata": {},
   "outputs": [],
   "source": [
    "data['ghi_limit_flag'] = (data['ghi'] < -4) | (data['ghi'] > data['ghi_upper_limit'])\n",
    "data['dhi_limit_flag'] = \n",
    "data['dni_limit_flag'] = "
   ]
  },
  {
   "cell_type": "markdown",
   "id": "c80c2a57-921b-4061-810b-a7a7e0fab056",
   "metadata": {},
   "source": [
    "## Step 5: Determine calculated GHI\n",
    "\n",
    "For the comparison QC checks we need the calculated GHI from DHI and DNI (remember the closure equation?)."
   ]
  },
  {
   "cell_type": "code",
   "execution_count": null,
   "id": "db37337a-0eeb-4f19-a9e0-8ffeaf133ed5",
   "metadata": {},
   "outputs": [],
   "source": [
    "# Write your code here\n",
    "data['ghi_calc'] = "
   ]
  },
  {
   "cell_type": "markdown",
   "id": "fa3bbebb-3e69-4021-9b2c-65b50f853ae7",
   "metadata": {},
   "source": [
    "## Step 6: Closure check\n",
    "\n",
    "The most powerful QC check available is the closure check because it allows us to compare the same value (GHI) obtained from two independent sources.\n",
    "\n",
    "In the below code cell, you should calculated the QC flag for the closure check.\n",
    "\n",
    "*Hint: To make it easier to implement, you can calculate two flags, one for high zenith angles and one for low zenith angles.*"
   ]
  },
  {
   "cell_type": "code",
   "execution_count": null,
   "id": "3a779fb2-b1d2-44ba-a6db-5216bf2289d2",
   "metadata": {},
   "outputs": [],
   "source": [
    "# Calculate the closure check flag\n",
    "data['closure_high_zenith_flag'] = \n",
    "data['closure_low_zenith_flag'] = "
   ]
  },
  {
   "cell_type": "markdown",
   "id": "5a2b00bb-3668-41e0-b5c8-4b3ac82b2ce9",
   "metadata": {},
   "source": [
    "## Step 7: Diffuse fraction check\n",
    "\n",
    "The second BSRN comparison check assesses the diffuse fraction:\n",
    "\n",
    "$K = DHI / GHI$\n",
    "\n",
    "Similar to the closure check above, determine the diffuse fraction QC flag for the high and low zenith regimes."
   ]
  },
  {
   "cell_type": "code",
   "execution_count": 6,
   "id": "eed6e81d-07db-438e-ab2f-b408ebcd7a10",
   "metadata": {},
   "outputs": [],
   "source": [
    "# Write your code here\n"
   ]
  },
  {
   "cell_type": "markdown",
   "id": "935fbc9f-d174-4b22-961a-9e4c1445efea",
   "metadata": {},
   "source": [
    "## Step 8: Calculated statistics\n",
    "\n",
    "In the last step, you need to calculate the percentage of flagged data for each QC flag:"
   ]
  },
  {
   "cell_type": "code",
   "execution_count": 7,
   "id": "fe7583a4-f60c-43ab-983f-4da4e7d0d48e",
   "metadata": {},
   "outputs": [],
   "source": [
    "# Write your code here\n"
   ]
  },
  {
   "cell_type": "markdown",
   "id": "1dfe65eb-ee0a-40a1-8723-145fe611d71b",
   "metadata": {},
   "source": [
    "## EXTRA\n",
    "\n",
    "You have now successfully applied the BSRN QC checks and significantly enhanced your dataset by removing potentially erroneous data.\n",
    "\n",
    "However, to improve future data collection, it is necessary to understand what went wrong with our measurements.\n",
    "\n",
    "Therefore, the final step is to visualize the data and figure out what went wrong. Note, 5 different errors were added to the dataset!"
   ]
  },
  {
   "cell_type": "code",
   "execution_count": 4,
   "id": "893ac000-1e4f-4e38-9063-2585698fab5e",
   "metadata": {},
   "outputs": [],
   "source": [
    "# Explore the data visually here"
   ]
  },
  {
   "cell_type": "code",
   "execution_count": null,
   "id": "d9ad4375-7327-48a6-b7da-275d0352cd3a",
   "metadata": {},
   "outputs": [],
   "source": []
  }
 ],
 "metadata": {
  "kernelspec": {
   "display_name": "Python 3 (ipykernel)",
   "language": "python",
   "name": "python3"
  },
  "language_info": {
   "codemirror_mode": {
    "name": "ipython",
    "version": 3
   },
   "file_extension": ".py",
   "mimetype": "text/x-python",
   "name": "python",
   "nbconvert_exporter": "python",
   "pygments_lexer": "ipython3",
   "version": "3.11.7"
  }
 },
 "nbformat": 4,
 "nbformat_minor": 5
}

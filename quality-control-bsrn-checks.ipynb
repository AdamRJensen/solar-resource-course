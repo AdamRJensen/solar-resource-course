{
 "cells": [
  {
   "cell_type": "markdown",
   "id": "e56d7ab5-f3af-4718-bff8-40f91686da3a",
   "metadata": {},
   "source": [
    "# Quality control - BSRN checks"
   ]
  },
  {
   "cell_type": "markdown",
   "id": "141bf702-e7fe-4a71-ba1e-6d3610f56b51",
   "metadata": {},
   "source": [
    "The most commonly applied quality control (QC) checks are the [BSRN recommended QC tests V2](https://bsrn.awi.de/fileadmin/user_upload/bsrn.awi.de/Publications/BSRN_recommended_QC_tests_V2.pdf) (these are the QC checks introduced in the lecture notes). The advantage of such automatic checks is that they are easy to implement, applicable to stations in most climates, and do not require extensive experience of the analyst.\n",
    "\n",
    "In this exercise, you will learn how to apply the BSRN quality to solar irradiance measurements."
   ]
  },
  {
   "cell_type": "code",
   "execution_count": null,
   "id": "6b9faabf-0700-486b-b2b5-682e32e319ff",
   "metadata": {},
   "outputs": [],
   "source": [
    "# Install pvlib on Google Colab as this is not a standard package.\n",
    "!pip install pvlib"
   ]
  },
  {
   "cell_type": "code",
   "execution_count": 2,
   "id": "273ef14f-93f3-4ea3-a09f-1c097389c76c",
   "metadata": {},
   "outputs": [],
   "source": [
    "import pvlib  # library for PV and solar calculations\n",
    "import pandas as pd  # library for data analysis\n",
    "import matplotlib.pyplot as plt  # library for plotting\n",
    "import numpy as np  # library for math and linear algebra"
   ]
  },
  {
   "cell_type": "markdown",
   "id": "d4b8ea02-7f5a-4171-86a1-3cc575917917",
   "metadata": {},
   "source": [
    "## Step 1: Read dataset\n",
    "The example dataset contains data of GHI, DHI, and DNI from DTU's Solar Radiation Monitoring Station for August 2025.\n",
    "\n",
    "A number of plausible errors have been induced!"
   ]
  },
  {
   "cell_type": "code",
   "execution_count": null,
   "id": "5e7419af-b3ee-4cff-99a7-20675067da16",
   "metadata": {},
   "outputs": [],
   "source": [
    "file_url = 'https://raw.githubusercontent.com/AdamRJensen/solar-resource-course/refs/heads/main/data/example_dataset_with_errors.csv'\n",
    "\n",
    "data = pd.read_csv(file_url, index_col=[0], parse_dates=[0])\n",
    "\n",
    "data.head()"
   ]
  },
  {
   "cell_type": "markdown",
   "id": "a9627ee4-db26-45a0-a034-17ed87e666d9",
   "metadata": {},
   "source": [
    "## Step 2: Calculate the BSRN limits\n",
    "\n",
    "In this exercise, we will be using the **extremely rare limits**.\n",
    "\n",
    "The first step is to calculate the upper limits:"
   ]
  },
  {
   "cell_type": "code",
   "execution_count": null,
   "id": "3b274421-a2ba-457c-9777-a8e025aa98f4",
   "metadata": {},
   "outputs": [],
   "source": [
    "# Write the code for the upper limits:\n",
    "\n",
    "data['ghi_upper_limit'] = \n",
    "data['dhi_upper_limit'] = \n",
    "data['dni_upper_limit'] = "
   ]
  },
  {
   "cell_type": "markdown",
   "id": "ec8de55a-7c18-4b7e-b2c4-2cbc3e50d635",
   "metadata": {},
   "source": [
    "## Step 3: Calculate limit flags"
   ]
  },
  {
   "cell_type": "markdown",
   "id": "8790b6bb-6674-4f60-b758-578fa2a89f91",
   "metadata": {},
   "source": []
  },
  {
   "cell_type": "markdown",
   "id": "8ebb9d92-a6c6-4374-89fa-7956f2c63143",
   "metadata": {},
   "source": [
    "## Step 4: Calculate calculated GHI\n",
    "\n",
    "For the "
   ]
  },
  {
   "cell_type": "markdown",
   "id": "da2f87dc-87e8-40fd-b53b-76ca5989a461",
   "metadata": {},
   "source": []
  },
  {
   "cell_type": "markdown",
   "id": "01dbdccc-5df6-489f-a5bb-d42805de4f61",
   "metadata": {},
   "source": []
  },
  {
   "cell_type": "markdown",
   "id": "eff19715-740f-41b4-bc47-ca6589f1b8d5",
   "metadata": {},
   "source": []
  },
  {
   "cell_type": "markdown",
   "id": "35cdcc77-6071-430d-8bac-0566033d299c",
   "metadata": {},
   "source": [
    "> Temporal resolution has a significant influence on the plausibility of irradiance measurements (Long and Shi 2008). Generally, the longer the data’s averaging time, the narrower the testing limits can be. For instance, the maximum possible irradiance is lower for data with 15-minute resolution than for data with 1-minute resolution. This is due in part because the short-term variability is averaged out over longer time steps (e.g., differences in sensor time response) and because of the occurrence of cloud enhancement events, which are noticeable in 1-minute data but not detectable at averaging times of 15 minutes or longer."
   ]
  },
  {
   "cell_type": "markdown",
   "id": "32352e1d-f299-457e-8dc4-8127691fa4af",
   "metadata": {},
   "source": [
    "How does closure equation agreement improve if you resmaple data to 10s, 1min, 5min, 10 min?"
   ]
  },
  {
   "cell_type": "markdown",
   "id": "fec1e11d-1008-446c-a562-95067a3b6452",
   "metadata": {},
   "source": [
    "## Part X\n",
    "\n",
    "In this exercise we will investiate the affect of temporal resolution on quality control alorithms.\n"
   ]
  },
  {
   "cell_type": "code",
   "execution_count": null,
   "id": "c3fdc727-33c2-4237-97ec-58968d3e2f39",
   "metadata": {},
   "outputs": [],
   "source": []
  }
 ],
 "metadata": {
  "kernelspec": {
   "display_name": "Python 3 (ipykernel)",
   "language": "python",
   "name": "python3"
  },
  "language_info": {
   "codemirror_mode": {
    "name": "ipython",
    "version": 3
   },
   "file_extension": ".py",
   "mimetype": "text/x-python",
   "name": "python",
   "nbconvert_exporter": "python",
   "pygments_lexer": "ipython3",
   "version": "3.11.7"
  }
 },
 "nbformat": 4,
 "nbformat_minor": 5
}

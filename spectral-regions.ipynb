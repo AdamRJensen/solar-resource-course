{
 "cells": [
  {
   "cell_type": "markdown",
   "id": "988a3da9-f6cc-4a7a-81ba-91f2c1a408c5",
   "metadata": {},
   "source": [
    "# Spectral regions\n",
    "\n",
    "In this tutorial you will calculate the irradinace in each of the spectral regions for the standard AM1.5 spectrum.\n",
    "\n",
    "The first step is to import a few Python packages."
   ]
  },
  {
   "cell_type": "code",
   "execution_count": 1,
   "id": "066ed27f-a9e3-432c-8bbd-b5758740e596",
   "metadata": {},
   "outputs": [],
   "source": [
    "# Install pvlib on Google Colab as this is not a standard package.\n",
    "!pip install pvlib"
   ]
  },
  {
   "cell_type": "code",
   "execution_count": 2,
   "id": "5bb89a67-12a9-48b2-873a-c425b67e4baa",
   "metadata": {},
   "outputs": [],
   "source": [
    "import pvlib  # library for PV and solar calculations\n",
    "import pandas as pd  # library for data analysis\n",
    "import matplotlib.pyplot as plt  # library for plotting\n",
    "import numpy as np  # library for math and linear algebra"
   ]
  },
  {
   "cell_type": "markdown",
   "id": "61eefcb0-a53d-4eb2-884c-a8523524cd72",
   "metadata": {},
   "source": [
    "## Step 1: Retrieve AM1.5 reference spectrum\n",
    "\n",
    "The AM1.5 reference spectrum can be retrieved from [NREL](https://www.nrel.gov/grid/solar-resource/assets/data/astmg173.xls). We will use the ASTM G173-03, which has spectrally resolved extraterrestrial, global and direct spectrum.\n",
    "\n",
    "The spectrum can be conveniently retrieved using the pvlib function ``[pvlib.spectrum.get_reference_spectra](https://pvlib-python.readthedocs.io/en/stable/reference/generated/pvlib.spectrum.get_reference_spectra.html#pvlib.spectrum.get_reference_spectra)``:"
   ]
  },
  {
   "cell_type": "code",
   "execution_count": 1,
   "id": "bac99c7b-bb58-4b32-96b6-1acb8853d90c",
   "metadata": {},
   "outputs": [],
   "source": [
    "# Write your code here\n"
   ]
  },
  {
   "cell_type": "markdown",
   "id": "e09503fe-bde9-40e5-b639-7c21eea5434a",
   "metadata": {},
   "source": [
    "## Step 2: Calculate irradiance\n",
    "\n",
    "Calculate the irradiance in the differnece spectral regions:\n",
    "- UV (<400 nm)\n",
    "- Visible (400–700 nm)\n",
    "- NIR (700–1100 nm)"
   ]
  },
  {
   "cell_type": "code",
   "execution_count": 2,
   "id": "ddeaacd4-fc91-43b3-8b07-e3d31424948e",
   "metadata": {},
   "outputs": [],
   "source": [
    "# Write your code here"
   ]
  },
  {
   "cell_type": "code",
   "execution_count": null,
   "id": "8705c5e9-d5aa-4afc-a96d-ff9b004bfd67",
   "metadata": {},
   "outputs": [],
   "source": []
  }
 ],
 "metadata": {
  "kernelspec": {
   "display_name": "Python 3 (ipykernel)",
   "language": "python",
   "name": "python3"
  },
  "language_info": {
   "codemirror_mode": {
    "name": "ipython",
    "version": 3
   },
   "file_extension": ".py",
   "mimetype": "text/x-python",
   "name": "python",
   "nbconvert_exporter": "python",
   "pygments_lexer": "ipython3",
   "version": "3.11.7"
  }
 },
 "nbformat": 4,
 "nbformat_minor": 5
}

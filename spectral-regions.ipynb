{
 "cells": [
  {
   "cell_type": "markdown",
   "id": "988a3da9-f6cc-4a7a-81ba-91f2c1a408c5",
   "metadata": {
    "id": "988a3da9-f6cc-4a7a-81ba-91f2c1a408c5"
   },
   "source": [
    "# Spectral regions\n",
    "\n",
    "In this tutorial you will calculate the irradiance in each of the spectral regions for the standard AM1.5 spectrum.\n",
    "\n",
    "The first step is to import a few Python packages."
   ]
  },
  {
   "cell_type": "code",
   "execution_count": null,
   "id": "066ed27f-a9e3-432c-8bbd-b5758740e596",
   "metadata": {
    "id": "066ed27f-a9e3-432c-8bbd-b5758740e596"
   },
   "outputs": [],
   "source": [
    "# Install pvlib on Google Colab as this is not a standard package.\n",
    "!pip install pvlib"
   ]
  },
  {
   "cell_type": "code",
   "execution_count": null,
   "id": "5bb89a67-12a9-48b2-873a-c425b67e4baa",
   "metadata": {
    "id": "5bb89a67-12a9-48b2-873a-c425b67e4baa"
   },
   "outputs": [],
   "source": [
    "import pvlib  # library for PV and solar calculations\n",
    "import pandas as pd  # library for data analysis\n",
    "import matplotlib.pyplot as plt  # library for plotting\n",
    "import numpy as np  # library for math and linear algebra"
   ]
  },
  {
   "cell_type": "markdown",
   "id": "61eefcb0-a53d-4eb2-884c-a8523524cd72",
   "metadata": {
    "id": "61eefcb0-a53d-4eb2-884c-a8523524cd72"
   },
   "source": [
    "## Step 1: Retrieve AM1.5 reference spectrum\n",
    "\n",
    "The AM1.5 reference spectrum can be retrieved from [NREL](https://www.nrel.gov/grid/solar-resource/assets/data/astmg173.xls). We will use the ASTM G173-03, which has spectrally resolved extraterrestrial, global and direct spectrum.\n",
    "\n",
    "The spectrum can be conveniently retrieved using the pvlib function [``pvlib.spectrum.get_reference_spectra``](https://pvlib-python.readthedocs.io/en/stable/reference/generated/pvlib.spectrum.get_reference_spectra.html#pvlib.spectrum.get_reference_spectra):"
   ]
  },
  {
   "cell_type": "code",
   "execution_count": null,
   "id": "fca50403-8d80-4005-a476-856415c5ffcd",
   "metadata": {
    "id": "bac99c7b-bb58-4b32-96b6-1acb8853d90c"
   },
   "outputs": [],
   "source": [
    "# Write your code here\n",
    "\n",
    "spectra = "
   ]
  },
  {
   "cell_type": "markdown",
   "id": "be7c23f0-df17-4d6c-a616-656d4480e850",
   "metadata": {
    "id": "bac99c7b-bb58-4b32-96b6-1acb8853d90c"
   },
   "source": [
    "## Step 2: Plot the spectra\n",
    "\n",
    "Plot the spectra retrieved in the first step."
   ]
  },
  {
   "cell_type": "code",
   "execution_count": null,
   "id": "7fabf9e1-4190-4c44-89a7-88701ca77880",
   "metadata": {
    "id": "bac99c7b-bb58-4b32-96b6-1acb8853d90c"
   },
   "outputs": [],
   "source": [
    "# Write your code here\n"
   ]
  },
  {
   "cell_type": "markdown",
   "id": "e09503fe-bde9-40e5-b639-7c21eea5434a",
   "metadata": {
    "id": "e09503fe-bde9-40e5-b639-7c21eea5434a"
   },
   "source": [
    "## Step 3: Calculate irradiance\n",
    "\n",
    "Calculate the irradiance in the differnece spectral regions:\n",
    "- UV (<400 nm)\n",
    "- Visible (400–700 nm)\n",
    "- NIR (700–1100 nm)"
   ]
  },
  {
   "cell_type": "code",
   "execution_count": null,
   "id": "ddeaacd4-fc91-43b3-8b07-e3d31424948e",
   "metadata": {
    "id": "ddeaacd4-fc91-43b3-8b07-e3d31424948e"
   },
   "outputs": [],
   "source": [
    "# Write your code here\n"
   ]
  },
  {
   "cell_type": "markdown",
   "id": "78828447-3db5-4688-b52a-6db8dc66e6ee",
   "metadata": {
    "id": "8705c5e9-d5aa-4afc-a96d-ff9b004bfd67"
   },
   "source": [
    "## Step 4: Calculate average photon energy\n",
    "\n",
    "In the last step, calculate the average photon energy (APE) of the three spectrums. First, look at the spectra plotted in Step 2, which do you think will have the highest APE?\n",
    "\n",
    "You can do this using the pvlib function [``pvlib.spectrum.average_photon_energy``](https://pvlib-python.readthedocs.io/en/stable/reference/generated/pvlib.spectrum.average_photon_energy.html#pvlib.spectrum.average_photon_energy):"
   ]
  },
  {
   "cell_type": "code",
   "execution_count": 3,
   "id": "9b54656b-ec47-4bae-8d44-8357db82e531",
   "metadata": {
    "id": "8705c5e9-d5aa-4afc-a96d-ff9b004bfd67"
   },
   "outputs": [],
   "source": [
    "# Write your code here\n"
   ]
  },
  {
   "cell_type": "code",
   "execution_count": null,
   "id": "ea0dadb2-f1ce-4162-b703-df12aa1027d4",
   "metadata": {},
   "outputs": [],
   "source": []
  }
 ],
 "metadata": {
  "colab": {
   "generative_ai_disabled": true,
   "provenance": []
  },
  "kernelspec": {
   "display_name": "Python 3 (ipykernel)",
   "language": "python",
   "name": "python3"
  },
  "language_info": {
   "codemirror_mode": {
    "name": "ipython",
    "version": 3
   },
   "file_extension": ".py",
   "mimetype": "text/x-python",
   "name": "python",
   "nbconvert_exporter": "python",
   "pygments_lexer": "ipython3",
   "version": "3.11.7"
  }
 },
 "nbformat": 4,
 "nbformat_minor": 5
}

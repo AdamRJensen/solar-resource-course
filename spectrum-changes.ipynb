{
 "cells": [
  {
   "cell_type": "markdown",
   "metadata": {
    "id": "DiDZIH4qF8Zz"
   },
   "source": [
    "# Average photon energy\n",
    "\n",
    "In this tutorial you will calculate the average photon energy (APE) of different spectral irradiance distributions. The APE parameter is a useful indicator of the overall shape of the solar spectrum. Higher (lower) APE values indicate a blue (red) shift in the spectrum and is one of a variety of such characterisation methods that is used in the PV performance literature.\n",
    "\n",
    "The first step is to import a few Python packages."
   ]
  },
  {
   "cell_type": "code",
   "execution_count": null,
   "metadata": {
    "id": "aeDcdGJXF2zx"
   },
   "outputs": [],
   "source": [
    "# Install pvlib on Google Colab as this is not a standard package.\n",
    "!pip install pvlib\n",
    "!pip install scipy"
   ]
  },
  {
   "cell_type": "code",
   "execution_count": null,
   "metadata": {
    "id": "OnlyQx4iF7Bk"
   },
   "outputs": [],
   "source": [
    "import pvlib  # library for PV and solar calculations\n",
    "import pandas as pd  # library for data analysis\n",
    "import matplotlib.pyplot as plt  # library for plotting\n",
    "import numpy as np  # library for math and linear algebra\n",
    "import scipy  # library used for scientific computing"
   ]
  },
  {
   "cell_type": "markdown",
   "metadata": {
    "id": "5H58lPOuF-Ti"
   },
   "source": [
    "## Step 1: Define parameters\n",
    "\n",
    "The first step is to define a location and some meteorological parameters that we will use in the next step in order to simulate some spectra."
   ]
  },
  {
   "cell_type": "code",
   "execution_count": 1,
   "metadata": {
    "id": "_ZkLQodxF7EX"
   },
   "outputs": [],
   "source": [
    "lat, lon = 55.7906, 12.5251  # DTU building 119\n",
    "tilt = 34  # assume a tilt for calculating POA irradiance\n",
    "azimuth = 180  # south-facing system\n",
    "pressure = 100700  # at 50 m AMSL, roughly [Pa]\n",
    "water_vapor_content = 0.5  # cm\n",
    "tau500 = 0.1 # turbidity (AOD) at 500 nm\n",
    "ozone = 0.31  # atmospheric ozone content atm-cm\n",
    "albedo = 0.2  # ground surface albedo"
   ]
  },
  {
   "cell_type": "markdown",
   "metadata": {
    "id": "Bp63c0t9F7HK"
   },
   "source": [
    "## Step 2: Simulate some spectra\n",
    "\n",
    "You can model spectral irradiance using [``pvlib.spectrum.spectrl2``](https://pvlib-python.readthedocs.io/en/stable/reference/generated/pvlib.spectrum.spectrl2.html). Note that since you are modeling spectra for more than one set of conditions (you will get 10 spectra, according to the ``times`` parameter) the function will return a dictionary containing 2-D arrays for the spectral irradiance components and a 1-D array of shape (122,) for wavelength. For each of the 2-D arrays, one dimension is for wavelength in nm and one is for irradiance in Wm⁻²nm⁻¹."
   ]
  },
  {
   "cell_type": "code",
   "execution_count": null,
   "metadata": {},
   "outputs": [],
   "source": [
    "times = pd.date_range('2023-03-01 08:00', freq='h', periods=10, tz='Europe/Copenhagen')\n",
    "\n",
    "# Write your code here\n",
    "solpos = \n",
    "aoi = \n",
    "relative_airmass = \n",
    "spectra_components = "
   ]
  },
  {
   "cell_type": "markdown",
   "metadata": {
    "id": "-IbQ77zdF7Jw"
   },
   "source": [
    "## Step 3: Visulaize the spectral data\n",
    "\n",
    "Plot the ``poa_global`` as a function of the ``wavelength`` for the different spectra you have modeled."
   ]
  },
  {
   "cell_type": "code",
   "execution_count": null,
   "metadata": {},
   "outputs": [],
   "source": [
    "# Write your code here\n",
    "time_labels = times.strftime(\"%H%M\")  # use this as legend in your plot in order to be easier to identify the different times of the day\n",
    "spectral_poa =\n",
    "wavelength =\n"
   ]
  },
  {
   "cell_type": "markdown",
   "metadata": {},
   "source": [
    "## Step 4: Normalize and plot the spectral irradiance\n",
    "\n",
    "Given the changing broadband irradiance throughout the day, it is not obvious from the previous plot how the relative distribution of light changes as a function of wavelength. It is also hard to figure out if there is any shift in the spectrum at different times of the day. We can normalize the spectral irradiance curves to visualize this shift in the shape of the spectrum over the course of the day. In this example, we normalize by dividing each spectral irradiance value by the total broadband irradiance.\n",
    "\n",
    "The total broadband irradiance can be calculated by integrating the entire spectral irradiance distribution (``poa_global``) with respect to ``wavelength``. The integral can be calculated using the [``scipy.integrate.trapezoid``](https://docs.scipy.org/doc/scipy-1.16.2/reference/generated/scipy.integrate.trapezoid.html):"
   ]
  },
  {
   "cell_type": "code",
   "execution_count": null,
   "metadata": {},
   "outputs": [],
   "source": [
    "# Write your code here\n",
    "\n",
    "broadband_irradiance =\n",
    "spectral_poa_normalised = \n"
   ]
  },
  {
   "cell_type": "markdown",
   "metadata": {},
   "source": [
    "What do you notice about the normalized spectra?"
   ]
  },
  {
   "cell_type": "markdown",
   "metadata": {},
   "source": [
    "## Step 5: Calculate the average photon energy (APE)\n",
    "\n",
    "The amount of red and blue shifts that you notice in the figure above can be quantified by calculating the average photon energy (APE). APE can be calculated using [``pvlib.spectrum.average_photon_energy``](https://pvlib-python.readthedocs.io/en/stable/reference/generated/pvlib.spectrum.average_photon_energy.html#pvlib.spectrum.average_photon_energy). Note that since we have more than one spectral irradiance distribution, we need to use a ``pandas.DataFrame`` as an input ot the above function."
   ]
  },
  {
   "cell_type": "code",
   "execution_count": null,
   "metadata": {},
   "outputs": [],
   "source": [
    "spectra = pd.DataFrame(spectral_poa).T  # convert to dataframe and transpose\n",
    "spectra.index = time_labels  # add time index\n",
    "spectra.columns = wavelength  # add wavelength column headers\n",
    "\n",
    "ape = spectrum.average_photon_energy(spectra)\n",
    "ape"
   ]
  },
  {
   "cell_type": "markdown",
   "metadata": {},
   "source": [
    "Note that the units of the APE are electronvolts (eV). What do you notice for the different spectra? What values do you expect to get for a red- and a blue-shifted spectrum?"
   ]
  },
  {
   "cell_type": "markdown",
   "metadata": {},
   "source": [
    "## Step 6: Investiate dfferent atmospheric optical parameters\n",
    "\n",
    "Repeat the previous steps using different atmospheric parameters (i.e., ``water_vapor_content``, ``tau500``, ``ozone``). How do these affect the spectrum?"
   ]
  },
  {
   "cell_type": "code",
   "execution_count": null,
   "metadata": {},
   "outputs": [],
   "source": []
  }
 ],
 "metadata": {
  "colab": {
   "generative_ai_disabled": true,
   "provenance": []
  },
  "kernelspec": {
   "display_name": "Python 3 (ipykernel)",
   "language": "python",
   "name": "python3"
  },
  "language_info": {
   "codemirror_mode": {
    "name": "ipython",
    "version": 3
   },
   "file_extension": ".py",
   "mimetype": "text/x-python",
   "name": "python",
   "nbconvert_exporter": "python",
   "pygments_lexer": "ipython3",
   "version": "3.11.9"
  }
 },
 "nbformat": 4,
 "nbformat_minor": 4
}

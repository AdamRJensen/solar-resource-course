{
 "cells": [
  {
   "cell_type": "markdown",
   "metadata": {
    "id": "DiDZIH4qF8Zz"
   },
   "source": [
    "# Spectral regions\n",
    "\n",
    "In this tutorial you will calculate the irradinace in each of the spectral regions for the standard AM1.5 spectrum.\n",
    "\n",
    "The first step is to import a few Python packages."
   ]
  },
  {
   "cell_type": "code",
   "execution_count": null,
   "metadata": {
    "id": "aeDcdGJXF2zx"
   },
   "outputs": [],
   "source": [
    "# Install pvlib on Google Colab as this is not a standard package.\n",
    "!pip install pvlib"
   ]
  },
  {
   "cell_type": "code",
   "execution_count": null,
   "metadata": {
    "id": "OnlyQx4iF7Bk"
   },
   "outputs": [],
   "source": [
    "import pvlib  # library for PV and solar calculations\n",
    "import pandas as pd  # library for data analysis\n",
    "import matplotlib.pyplot as plt  # library for plotting\n",
    "import numpy as np  # library for math and linear algebra"
   ]
  },
  {
   "cell_type": "markdown",
   "metadata": {
    "id": "5H58lPOuF-Ti"
   },
   "source": [
    "## Step 1: Step title\n",
    "\n",
    "Explanation"
   ]
  },
  {
   "cell_type": "code",
   "execution_count": 1,
   "metadata": {
    "id": "_ZkLQodxF7EX"
   },
   "outputs": [],
   "source": [
    "# Write your code here\n"
   ]
  },
  {
   "cell_type": "code",
   "execution_count": null,
   "metadata": {
    "id": "Bp63c0t9F7HK"
   },
   "outputs": [],
   "source": []
  },
  {
   "cell_type": "code",
   "execution_count": null,
   "metadata": {
    "id": "-IbQ77zdF7Jw"
   },
   "outputs": [],
   "source": []
  }
 ],
 "metadata": {
  "colab": {
   "generative_ai_disabled": true,
   "provenance": []
  },
  "kernelspec": {
   "display_name": "Python 3 (ipykernel)",
   "language": "python",
   "name": "python3"
  },
  "language_info": {
   "codemirror_mode": {
    "name": "ipython",
    "version": 3
   },
   "file_extension": ".py",
   "mimetype": "text/x-python",
   "name": "python",
   "nbconvert_exporter": "python",
   "pygments_lexer": "ipython3",
   "version": "3.11.7"
  }
 },
 "nbformat": 4,
 "nbformat_minor": 4
}

{
 "cells": [
  {
   "cell_type": "markdown",
   "id": "f019957b-8204-4926-8653-f3787ccfb946",
   "metadata": {
    "editable": true,
    "slideshow": {
     "slide_type": ""
    },
    "tags": []
   },
   "source": [
    "# Calculating solar position in Python\n",
    "\n",
    "This tutorial demonstrates how to calculate solar positions in Python using the [pvlib-python](https://pvlib-python.readthedocs.io/) library.\n",
    "\n",
    "\n",
    "The first step is to import a few Python pacakges."
   ]
  },
  {
   "cell_type": "code",
   "execution_count": null,
   "id": "066ed27f-a9e3-432c-8bbd-b5758740e596",
   "metadata": {
    "editable": true,
    "slideshow": {
     "slide_type": ""
    },
    "tags": []
   },
   "outputs": [],
   "source": [
    "# Install pvlib on Google Colab as this is not a standard package.\n",
    "!pip install pvlib"
   ]
  },
  {
   "cell_type": "code",
   "execution_count": 2,
   "id": "5bb89a67-12a9-48b2-873a-c425b67e4baa",
   "metadata": {
    "editable": true,
    "slideshow": {
     "slide_type": ""
    },
    "tags": []
   },
   "outputs": [],
   "source": [
    "import pvlib  # library for PV and solar calculations\n",
    "import pandas as pd  # library for data analysis\n",
    "import matplotlib.pyplot as plt  # library for plotting"
   ]
  },
  {
   "cell_type": "markdown",
   "id": "eed8123d-2270-49d1-a729-0da922645b4f",
   "metadata": {},
   "source": [
    "## Step 1: Define a location\n",
    "\n",
    "A location is defined by a latitude and longitude according to the convention of [ISO 6709](https://en.wikipedia.org/wiki/ISO_6709). Specifically, latitude is in degrees north of the equator and the longitude is in degrees east of the prime meridian."
   ]
  },
  {
   "cell_type": "code",
   "execution_count": 3,
   "id": "12d71592-fc44-4ff4-bd21-3619902c688e",
   "metadata": {},
   "outputs": [],
   "source": [
    "location = pvlib.location.Location(\n",
    "    latitude=55.79,\n",
    "    longitude=12.52,\n",
    ")"
   ]
  },
  {
   "cell_type": "markdown",
   "id": "4effe7b0-3b52-49d5-af49-51f09cbb6dc0",
   "metadata": {},
   "source": [
    "## Step 2: Define time stamps\n",
    "\n",
    "The next step is to define the time stamps for which you want to calculate solar positions for. Here it is important to specify the timezone as otherwise UTC will be assumed.\n",
    "\n",
    "For more information on available timezones, see the [pvlib documentation on timezones](https://pvlib-python.readthedocs.io/en/stable/user_guide/modeling_topics/timetimezones.html)."
   ]
  },
  {
   "cell_type": "code",
   "execution_count": 7,
   "id": "0c82b35a-4046-4759-b602-dc4ef7b2503c",
   "metadata": {},
   "outputs": [
    {
     "data": {
      "text/plain": [
       "DatetimeIndex(['2025-08-02 00:00:00+02:00', '2025-08-02 00:01:00+02:00',\n",
       "               '2025-08-02 00:02:00+02:00', '2025-08-02 00:03:00+02:00',\n",
       "               '2025-08-02 00:04:00+02:00', '2025-08-02 00:05:00+02:00',\n",
       "               '2025-08-02 00:06:00+02:00', '2025-08-02 00:07:00+02:00',\n",
       "               '2025-08-02 00:08:00+02:00', '2025-08-02 00:09:00+02:00',\n",
       "               ...\n",
       "               '2025-08-02 23:50:00+02:00', '2025-08-02 23:51:00+02:00',\n",
       "               '2025-08-02 23:52:00+02:00', '2025-08-02 23:53:00+02:00',\n",
       "               '2025-08-02 23:54:00+02:00', '2025-08-02 23:55:00+02:00',\n",
       "               '2025-08-02 23:56:00+02:00', '2025-08-02 23:57:00+02:00',\n",
       "               '2025-08-02 23:58:00+02:00', '2025-08-02 23:59:00+02:00'],\n",
       "              dtype='datetime64[ns, Europe/Copenhagen]', length=1440, freq='min')"
      ]
     },
     "execution_count": 7,
     "metadata": {},
     "output_type": "execute_result"
    }
   ],
   "source": [
    "times = pd.date_range(\n",
    "    start='2025-08-02 00:00',\n",
    "    end='2025-08-02 23:59',\n",
    "    freq='1min',  # frequency\n",
    "    tz='Europe/Copenhagen',  # timezone\n",
    ")\n",
    "\n",
    "times"
   ]
  },
  {
   "cell_type": "markdown",
   "id": "7f1273d8-83cb-469c-935f-2e77cba6b3de",
   "metadata": {},
   "source": [
    "## Step 3: Calculate solar position\n",
    "\n",
    "Once we have defined a location and the time stamps for which we want to calculate solar position for, we can use the convenient ``.get_solarposition`` function of the location class to calculate the solar positions:"
   ]
  },
  {
   "cell_type": "code",
   "execution_count": 8,
   "id": "fceda129-9a8e-4b7f-af99-0d7e9d925686",
   "metadata": {},
   "outputs": [
    {
     "data": {
      "text/html": [
       "<div>\n",
       "<style scoped>\n",
       "    .dataframe tbody tr th:only-of-type {\n",
       "        vertical-align: middle;\n",
       "    }\n",
       "\n",
       "    .dataframe tbody tr th {\n",
       "        vertical-align: top;\n",
       "    }\n",
       "\n",
       "    .dataframe thead th {\n",
       "        text-align: right;\n",
       "    }\n",
       "</style>\n",
       "<table border=\"1\" class=\"dataframe\">\n",
       "  <thead>\n",
       "    <tr style=\"text-align: right;\">\n",
       "      <th></th>\n",
       "      <th>apparent_zenith</th>\n",
       "      <th>zenith</th>\n",
       "      <th>apparent_elevation</th>\n",
       "      <th>elevation</th>\n",
       "      <th>azimuth</th>\n",
       "      <th>equation_of_time</th>\n",
       "    </tr>\n",
       "  </thead>\n",
       "  <tbody>\n",
       "    <tr>\n",
       "      <th>2025-08-02 00:00:00+02:00</th>\n",
       "      <td>104.698894</td>\n",
       "      <td>104.698894</td>\n",
       "      <td>-14.698894</td>\n",
       "      <td>-14.698894</td>\n",
       "      <td>341.244504</td>\n",
       "      <td>-6.323866</td>\n",
       "    </tr>\n",
       "    <tr>\n",
       "      <th>2025-08-02 00:01:00+02:00</th>\n",
       "      <td>104.743983</td>\n",
       "      <td>104.743983</td>\n",
       "      <td>-14.743983</td>\n",
       "      <td>-14.743983</td>\n",
       "      <td>341.486216</td>\n",
       "      <td>-6.323817</td>\n",
       "    </tr>\n",
       "    <tr>\n",
       "      <th>2025-08-02 00:02:00+02:00</th>\n",
       "      <td>104.788509</td>\n",
       "      <td>104.788509</td>\n",
       "      <td>-14.788509</td>\n",
       "      <td>-14.788509</td>\n",
       "      <td>341.728089</td>\n",
       "      <td>-6.323768</td>\n",
       "    </tr>\n",
       "    <tr>\n",
       "      <th>2025-08-02 00:03:00+02:00</th>\n",
       "      <td>104.832472</td>\n",
       "      <td>104.832472</td>\n",
       "      <td>-14.832472</td>\n",
       "      <td>-14.832472</td>\n",
       "      <td>341.970122</td>\n",
       "      <td>-6.323719</td>\n",
       "    </tr>\n",
       "    <tr>\n",
       "      <th>2025-08-02 00:04:00+02:00</th>\n",
       "      <td>104.875871</td>\n",
       "      <td>104.875871</td>\n",
       "      <td>-14.875871</td>\n",
       "      <td>-14.875871</td>\n",
       "      <td>342.212313</td>\n",
       "      <td>-6.323670</td>\n",
       "    </tr>\n",
       "  </tbody>\n",
       "</table>\n",
       "</div>"
      ],
      "text/plain": [
       "                           apparent_zenith      zenith  apparent_elevation  \\\n",
       "2025-08-02 00:00:00+02:00       104.698894  104.698894          -14.698894   \n",
       "2025-08-02 00:01:00+02:00       104.743983  104.743983          -14.743983   \n",
       "2025-08-02 00:02:00+02:00       104.788509  104.788509          -14.788509   \n",
       "2025-08-02 00:03:00+02:00       104.832472  104.832472          -14.832472   \n",
       "2025-08-02 00:04:00+02:00       104.875871  104.875871          -14.875871   \n",
       "\n",
       "                           elevation     azimuth  equation_of_time  \n",
       "2025-08-02 00:00:00+02:00 -14.698894  341.244504         -6.323866  \n",
       "2025-08-02 00:01:00+02:00 -14.743983  341.486216         -6.323817  \n",
       "2025-08-02 00:02:00+02:00 -14.788509  341.728089         -6.323768  \n",
       "2025-08-02 00:03:00+02:00 -14.832472  341.970122         -6.323719  \n",
       "2025-08-02 00:04:00+02:00 -14.875871  342.212313         -6.323670  "
      ]
     },
     "execution_count": 8,
     "metadata": {},
     "output_type": "execute_result"
    }
   ],
   "source": [
    "solpos = location.get_solarposition(times)\n",
    "\n",
    "solpos.head()  # Inspect the first 5 rows"
   ]
  },
  {
   "cell_type": "markdown",
   "id": "90588bc1-ed8c-431a-a70e-801d23396844",
   "metadata": {},
   "source": [
    "## Step 4: Plot the solar position"
   ]
  },
  {
   "cell_type": "code",
   "execution_count": 11,
   "id": "c841ba7b-e753-4104-8b89-d40ad4c42c64",
   "metadata": {},
   "outputs": [
    {
     "data": {
      "text/plain": [
       "array([<Axes: >, <Axes: >], dtype=object)"
      ]
     },
     "execution_count": 11,
     "metadata": {},
     "output_type": "execute_result"
    },
    {
     "data": {
      "image/png": "[encoded data removed]",
      "text/plain": [
       "<Figure size 640x480 with 2 Axes>"
      ]
     },
     "metadata": {},
     "output_type": "display_data"
    }
   ],
   "source": [
    "solpos[['apparent_elevation', 'azimuth']].plot(\n",
    "    subplots=True, sharex=True)"
   ]
  },
  {
   "cell_type": "markdown",
   "id": "5dc052c4-8b5e-4c3c-b165-e592c51eeae7",
   "metadata": {},
   "source": [
    "## Step 5: Calculate atmospheric refraction\n",
    "\n",
    "In this step you will need to calculate the atmospheric refraction for the day. Note, the information that you need is available in the ``solpos`` DataFrame."
   ]
  },
  {
   "cell_type": "code",
   "execution_count": 12,
   "id": "c5e301fd-42e3-467e-96d3-eb4a3514b883",
   "metadata": {},
   "outputs": [],
   "source": [
    "# Write your code here to calculate refraction\n"
   ]
  },
  {
   "cell_type": "code",
   "execution_count": null,
   "id": "6f8b8806-a853-4faa-abc8-a82c32c6abdc",
   "metadata": {},
   "outputs": [],
   "source": []
  }
 ],
 "metadata": {
  "kernelspec": {
   "display_name": "Python 3 (ipykernel)",
   "language": "python",
   "name": "python3"
  },
  "language_info": {
   "codemirror_mode": {
    "name": "ipython",
    "version": 3
   },
   "file_extension": ".py",
   "mimetype": "text/x-python",
   "name": "python",
   "nbconvert_exporter": "python",
   "pygments_lexer": "ipython3",
   "version": "3.11.7"
  }
 },
 "nbformat": 4,
 "nbformat_minor": 5
}

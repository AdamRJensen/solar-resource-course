{
 "cells": [
  {
   "cell_type": "markdown",
   "id": "06408e6a-5f71-46e1-a2e7-2cc04d44e486",
   "metadata": {
    "id": "06408e6a-5f71-46e1-a2e7-2cc04d44e486"
   },
   "source": [
    "# Modeled solar irradiance data\n",
    "\n",
    "In this tutorial, you will learn how to retrieve modeled solar irradiance data from various data sources.\n",
    "\n",
    "The objective of the exercise is to calculate the annual irradiance from different sources, as an indicator of the differences between the data sources."
   ]
  },
  {
   "cell_type": "code",
   "execution_count": 1,
   "id": "066ed27f-a9e3-432c-8bbd-b5758740e596",
   "metadata": {
    "id": "066ed27f-a9e3-432c-8bbd-b5758740e596"
   },
   "outputs": [],
   "source": [
    "# Install pvlib on Google Colab as this is not a standard package.\n",
    "!pip install pvlib"
   ]
  },
  {
   "cell_type": "code",
   "execution_count": 2,
   "id": "5bb89a67-12a9-48b2-873a-c425b67e4baa",
   "metadata": {
    "id": "5bb89a67-12a9-48b2-873a-c425b67e4baa"
   },
   "outputs": [],
   "source": [
    "import pvlib  # library for PV and solar calculations\n",
    "import pandas as pd  # library for data analysis\n",
    "import matplotlib.pyplot as plt  # library for plotting\n",
    "import numpy as np  # library for math and linear algebra"
   ]
  },
  {
   "cell_type": "markdown",
   "id": "a530f188-a73a-42f6-a1d5-02526542c6a4",
   "metadata": {
    "id": "a530f188-a73a-42f6-a1d5-02526542c6a4"
   },
   "source": [
    "## Step 1: Explore the PVGIS data viewer\n",
    "Visit the [PVGIS website](https://joint-research-centre.ec.europa.eu/photovoltaic-geographical-information-system-pvgis_en) to familiarize yourself with the various data retrieval options.\n",
    "\n",
    "To access data, click the \"Visit PVGIS\" button on the main landing page.\n",
    "\n",
    "You will notice 7 different tabs indicating different data options. Click on the \"Hourly data\" tab. Now, click on different parts of the world and inspect which options are available for the \"Solar radiation database\" drop-down menu. Are there always multiple options available? *Hint: look for the maximum latitude covered by satellite-derived data.*\n",
    "\n",
    "\n",
    "<br>"
   ]
  },
  {
   "cell_type": "markdown",
   "id": "58a98aa0-77a8-4443-b3b1-c585c2d3cd9a",
   "metadata": {
    "id": "58a98aa0-77a8-4443-b3b1-c585c2d3cd9a"
   },
   "source": [
    "## Step 2: Retrieve satellite-derived irradiance from PVGIS\n",
    "Once you've familiarized yourself with PVGIS, it is time to retrieve time series of solar irradiance from PVGIS. This can be done from the website interface, but for most analyses it is more convenient to import it directly to Python.\n",
    "\n",
    "Use the pvlib-python function [get_pvgis_hourly](https://pvlib-python.readthedocs.io/en/stable/reference/generated/pvlib.iotools.get_pvgis_hourly.html) to retrieve irradiance. Note that most of the input parameters are optional; for this exercise, we only want to retrieve data for 2020."
   ]
  },
  {
   "cell_type": "code",
   "execution_count": 3,
   "id": "ff70bf27-c37c-4496-ace0-5c9dcf2fbdee",
   "metadata": {
    "id": "1c63401f-7671-4f2b-ac6c-d073cb916b84"
   },
   "outputs": [
    {
     "data": {
      "text/html": [
       "<div>\n",
       "<style scoped>\n",
       "    .dataframe tbody tr th:only-of-type {\n",
       "        vertical-align: middle;\n",
       "    }\n",
       "\n",
       "    .dataframe tbody tr th {\n",
       "        vertical-align: top;\n",
       "    }\n",
       "\n",
       "    .dataframe thead th {\n",
       "        text-align: right;\n",
       "    }\n",
       "</style>\n",
       "<table border=\"1\" class=\"dataframe\">\n",
       "  <thead>\n",
       "    <tr style=\"text-align: right;\">\n",
       "      <th></th>\n",
       "      <th>poa_direct</th>\n",
       "      <th>poa_sky_diffuse</th>\n",
       "      <th>poa_ground_diffuse</th>\n",
       "      <th>solar_elevation</th>\n",
       "      <th>temp_air</th>\n",
       "      <th>wind_speed</th>\n",
       "      <th>Int</th>\n",
       "    </tr>\n",
       "    <tr>\n",
       "      <th>time</th>\n",
       "      <th></th>\n",
       "      <th></th>\n",
       "      <th></th>\n",
       "      <th></th>\n",
       "      <th></th>\n",
       "      <th></th>\n",
       "      <th></th>\n",
       "    </tr>\n",
       "  </thead>\n",
       "  <tbody>\n",
       "    <tr>\n",
       "      <th>2020-01-01 00:11:00+00:00</th>\n",
       "      <td>0.0</td>\n",
       "      <td>0.0</td>\n",
       "      <td>0.0</td>\n",
       "      <td>0.0</td>\n",
       "      <td>2.59</td>\n",
       "      <td>5.31</td>\n",
       "      <td>0</td>\n",
       "    </tr>\n",
       "    <tr>\n",
       "      <th>2020-01-01 01:11:00+00:00</th>\n",
       "      <td>0.0</td>\n",
       "      <td>0.0</td>\n",
       "      <td>0.0</td>\n",
       "      <td>0.0</td>\n",
       "      <td>2.75</td>\n",
       "      <td>5.38</td>\n",
       "      <td>0</td>\n",
       "    </tr>\n",
       "    <tr>\n",
       "      <th>2020-01-01 02:11:00+00:00</th>\n",
       "      <td>0.0</td>\n",
       "      <td>0.0</td>\n",
       "      <td>0.0</td>\n",
       "      <td>0.0</td>\n",
       "      <td>3.07</td>\n",
       "      <td>5.24</td>\n",
       "      <td>0</td>\n",
       "    </tr>\n",
       "    <tr>\n",
       "      <th>2020-01-01 03:11:00+00:00</th>\n",
       "      <td>0.0</td>\n",
       "      <td>0.0</td>\n",
       "      <td>0.0</td>\n",
       "      <td>0.0</td>\n",
       "      <td>3.33</td>\n",
       "      <td>5.45</td>\n",
       "      <td>0</td>\n",
       "    </tr>\n",
       "    <tr>\n",
       "      <th>2020-01-01 04:11:00+00:00</th>\n",
       "      <td>0.0</td>\n",
       "      <td>0.0</td>\n",
       "      <td>0.0</td>\n",
       "      <td>0.0</td>\n",
       "      <td>3.75</td>\n",
       "      <td>5.59</td>\n",
       "      <td>0</td>\n",
       "    </tr>\n",
       "  </tbody>\n",
       "</table>\n",
       "</div>"
      ],
      "text/plain": [
       "                           poa_direct  poa_sky_diffuse  poa_ground_diffuse  \\\n",
       "time                                                                         \n",
       "2020-01-01 00:11:00+00:00         0.0              0.0                 0.0   \n",
       "2020-01-01 01:11:00+00:00         0.0              0.0                 0.0   \n",
       "2020-01-01 02:11:00+00:00         0.0              0.0                 0.0   \n",
       "2020-01-01 03:11:00+00:00         0.0              0.0                 0.0   \n",
       "2020-01-01 04:11:00+00:00         0.0              0.0                 0.0   \n",
       "\n",
       "                           solar_elevation  temp_air  wind_speed  Int  \n",
       "time                                                                   \n",
       "2020-01-01 00:11:00+00:00              0.0      2.59        5.31    0  \n",
       "2020-01-01 01:11:00+00:00              0.0      2.75        5.38    0  \n",
       "2020-01-01 02:11:00+00:00              0.0      3.07        5.24    0  \n",
       "2020-01-01 03:11:00+00:00              0.0      3.33        5.45    0  \n",
       "2020-01-01 04:11:00+00:00              0.0      3.75        5.59    0  "
      ]
     },
     "execution_count": 3,
     "metadata": {},
     "output_type": "execute_result"
    }
   ],
   "source": [
    "latitude = 55.79\n",
    "longitude = 12.52\n",
    "\n",
    "# Write your code here\n",
    "\n",
    "#### SOLUTION #####\n",
    "data, meta = pvlib.iotools.get_pvgis_hourly(\n",
    "    latitude=latitude,\n",
    "    longitude=longitude,\n",
    "    start=2020,\n",
    "    end=2020,\n",
    ")\n",
    "\n",
    "data.head()"
   ]
  },
  {
   "cell_type": "markdown",
   "id": "d7ccd26d-2bd3-49cd-b0d6-54d8dd5e9a8e",
   "metadata": {
    "id": "1c63401f-7671-4f2b-ac6c-d073cb916b84"
   },
   "source": [
    "## Step 3: Calculate GHI from POA components\n",
    "\n",
    "PVGIS returns the plane-of-array (POA) components, because the service is able to transpose the irradiance to a user specified surface tilt and azimuth. The default setting is for the components to be on horizontal (``surface tilt=0``).'\n",
    "\n",
    "In this step, calculate the GHI based on the POA component. Before inspecting the data, think about what the ground reflected irradiance is for a horizontal surface?"
   ]
  },
  {
   "cell_type": "code",
   "execution_count": 4,
   "id": "9343932a-9873-4d73-9c67-47202a06af5f",
   "metadata": {
    "id": "1c63401f-7671-4f2b-ac6c-d073cb916b84"
   },
   "outputs": [],
   "source": [
    "# Write your code here\n",
    "\n",
    "data['ghi'] = data['poa_direct'] + data['poa_sky_diffuse']"
   ]
  },
  {
   "cell_type": "markdown",
   "id": "aec6f649-e45f-4bd5-bde6-2ffb83c4d1b5",
   "metadata": {
    "id": "aec6f649-e45f-4bd5-bde6-2ffb83c4d1b5"
   },
   "source": [
    "## Step 4: Inspect the returned data\n",
    "\n",
    "Explore the returned data. Notice that the components are called \"POA_*\". The reason for this is that PVGIS allows for returning irradiance for tilted surfaces. Go back to the documentation and determine which two input parameters could be used to specify a different surface orientation.\n",
    "\n",
    "Note that the default surface is a horizontal surface. Therefore, you may add the individual components to calculate GHI."
   ]
  },
  {
   "cell_type": "code",
   "execution_count": 5,
   "id": "a049806f-9028-4b53-9d05-d89ded65713e",
   "metadata": {
    "id": "a049806f-9028-4b53-9d05-d89ded65713e"
   },
   "outputs": [
    {
     "data": {
      "image/png": "[encoded data removed]",
      "text/plain": [
       "<Figure size 1000x600 with 8 Axes>"
      ]
     },
     "metadata": {},
     "output_type": "display_data"
    }
   ],
   "source": [
    "# Write your code here\n",
    "\n",
    "#### SOLUTION ####\n",
    "data.plot(subplots=True, sharex=True, figsize=(10, 6));"
   ]
  },
  {
   "cell_type": "markdown",
   "id": "e711fc64-01ad-4694-8ed6-f29c62a384db",
   "metadata": {
    "id": "e711fc64-01ad-4694-8ed6-f29c62a384db"
   },
   "source": [
    "## Step 5: Determine which database was used\n",
    "For the data retrieval above, we did not specify which radiation database to use. Therefore, the default database for the specified location was used.\n",
    "\n",
    "Inspect the metadata object (the second object returned) to determine which database was used for the retrieval. Is this a satellite-based or a renalaysis datatset?"
   ]
  },
  {
   "cell_type": "code",
   "execution_count": 6,
   "id": "6886ec09-dd7a-494d-ae27-7063b894db83",
   "metadata": {
    "id": "21da0695-b864-4310-b780-cf27e23cb460",
    "scrolled": true
   },
   "outputs": [
    {
     "data": {
      "text/plain": [
       "{'inputs': {'location': {'latitude': 55.79,\n",
       "   'longitude': 12.52,\n",
       "   'elevation': 40.0},\n",
       "  'meteo_data': {'radiation_db': 'PVGIS-SARAH3',\n",
       "   'meteo_db': 'ERA5',\n",
       "   'year_min': 2020,\n",
       "   'year_max': 2020,\n",
       "   'use_horizon': True,\n",
       "   'horizon_db': None,\n",
       "   'horizon_data': 'DEM-calculated'},\n",
       "  'mounting_system': {'fixed': {'slope': {'value': 0, 'optimal': False},\n",
       "    'azimuth': {'value': 0, 'optimal': False},\n",
       "    'type': 'free-standing'}},\n",
       "  'pv_module': {'technology': None, 'peak_power': None, 'system_loss': None},\n",
       "  'descriptions': {'location': {'description': 'Selected location',\n",
       "    'variables': {'latitude': {'description': 'Latitude',\n",
       "      'units': 'decimal degree'},\n",
       "     'longitude': {'description': 'Longitude', 'units': 'decimal degree'},\n",
       "     'elevation': {'description': 'Elevation', 'units': 'm'}}},\n",
       "   'meteo_data': {'description': 'Sources of meteorological data',\n",
       "    'variables': {'radiation_db': {'description': 'Solar radiation database'},\n",
       "     'meteo_db': {'description': 'Database used for meteorological variables other than solar radiation'},\n",
       "     'year_min': {'description': 'First year of the calculations'},\n",
       "     'year_max': {'description': 'Last year of the calculations'},\n",
       "     'use_horizon': {'description': 'Include horizon shadows'},\n",
       "     'horizon_db': {'description': 'Source of horizon data'}}},\n",
       "   'mounting_system': {'description': 'Mounting system',\n",
       "    'choices': 'fixed, vertical_axis, inclined_axis, two_axis',\n",
       "    'fields': {'slope': {'description': 'Inclination angle from the horizontal plane',\n",
       "      'units': 'degree'},\n",
       "     'azimuth': {'description': 'Orientation (azimuth) angle of the (fixed) PV system (0 = S, 90 = W, -90 = E)',\n",
       "      'units': 'degree'}}},\n",
       "   'pv_module': {'description': 'PV module parameters',\n",
       "    'variables': {'technology': {'description': 'PV technology'},\n",
       "     'peak_power': {'description': 'Nominal (peak) power of the PV module',\n",
       "      'units': 'kW'},\n",
       "     'system_loss': {'description': 'Sum of system losses', 'units': '%'}}}}},\n",
       " 'outputs': {'hourly': {'type': 'time series',\n",
       "   'timestamp': 'hourly averages',\n",
       "   'variables': {'Gb(i)': {'description': 'Beam (direct) irradiance on the inclined plane (plane of the array)',\n",
       "     'units': 'W/m2'},\n",
       "    'Gd(i)': {'description': 'Diffuse irradiance on the inclined plane (plane of the array)',\n",
       "     'units': 'W/m2'},\n",
       "    'Gr(i)': {'description': 'Reflected irradiance on the inclined plane (plane of the array)',\n",
       "     'units': 'W/m2'},\n",
       "    'H_sun': {'description': 'Sun height', 'units': 'degree'},\n",
       "    'T2m': {'description': '2-m air temperature', 'units': 'degree Celsius'},\n",
       "    'WS10m': {'description': '10-m total wind speed', 'units': 'm/s'},\n",
       "    'Int': {'description': '1 means solar radiation values are reconstructed'}}}}}"
      ]
     },
     "execution_count": 6,
     "metadata": {},
     "output_type": "execute_result"
    }
   ],
   "source": [
    "# Write your code here\n",
    "\n",
    "#### SOLUTION ####\n",
    "# you can inspect the content of the meta dictionary by simply writing meta and executing the cell\n",
    "# The meta dictionary contains a number of nested dictionaries (meaning an element of a dictionary entry is a new dictionary)\n",
    "# The fourth line contains a dictionary entry called 'radiation_db' which specified that the database was PVGIS-SARAH3\n",
    "meta"
   ]
  },
  {
   "cell_type": "code",
   "execution_count": 7,
   "id": "f81967fa-241f-4133-af48-62404767d206",
   "metadata": {
    "id": "21da0695-b864-4310-b780-cf27e23cb460"
   },
   "outputs": [
    {
     "data": {
      "text/plain": [
       "'PVGIS-SARAH3'"
      ]
     },
     "execution_count": 7,
     "metadata": {},
     "output_type": "execute_result"
    }
   ],
   "source": [
    "meta['inputs']['meteo_data']['radiation_db']"
   ]
  },
  {
   "cell_type": "markdown",
   "id": "5452a354-6803-470d-ad10-f2a050499d03",
   "metadata": {
    "id": "5452a354-6803-470d-ad10-f2a050499d03"
   },
   "source": [
    "## Step 6: Retrieve reanalysis irradiance\n",
    "\n",
    "For the same location, use the PVGIS function again, but this time specify that the data source should be reanalysis data from ERA5.\n",
    "\n",
    "*Hint: the radiation database can be specified using the keyword `raddatabase='PVGIS-ERA5'`.*\n",
    "\n",
    "As done for the first dataset, calculate GHI from the POA components."
   ]
  },
  {
   "cell_type": "code",
   "execution_count": 8,
   "id": "8954a0c6-d9e3-4ffc-a39b-873669537ba5",
   "metadata": {
    "id": "8954a0c6-d9e3-4ffc-a39b-873669537ba5"
   },
   "outputs": [
    {
     "data": {
      "text/html": [
       "<div>\n",
       "<style scoped>\n",
       "    .dataframe tbody tr th:only-of-type {\n",
       "        vertical-align: middle;\n",
       "    }\n",
       "\n",
       "    .dataframe tbody tr th {\n",
       "        vertical-align: top;\n",
       "    }\n",
       "\n",
       "    .dataframe thead th {\n",
       "        text-align: right;\n",
       "    }\n",
       "</style>\n",
       "<table border=\"1\" class=\"dataframe\">\n",
       "  <thead>\n",
       "    <tr style=\"text-align: right;\">\n",
       "      <th></th>\n",
       "      <th>poa_direct</th>\n",
       "      <th>poa_sky_diffuse</th>\n",
       "      <th>poa_ground_diffuse</th>\n",
       "      <th>solar_elevation</th>\n",
       "      <th>temp_air</th>\n",
       "      <th>wind_speed</th>\n",
       "      <th>Int</th>\n",
       "      <th>ghi</th>\n",
       "    </tr>\n",
       "    <tr>\n",
       "      <th>time</th>\n",
       "      <th></th>\n",
       "      <th></th>\n",
       "      <th></th>\n",
       "      <th></th>\n",
       "      <th></th>\n",
       "      <th></th>\n",
       "      <th></th>\n",
       "      <th></th>\n",
       "    </tr>\n",
       "  </thead>\n",
       "  <tbody>\n",
       "    <tr>\n",
       "      <th>2020-01-01 00:11:00+00:00</th>\n",
       "      <td>0.0</td>\n",
       "      <td>0.0</td>\n",
       "      <td>0.0</td>\n",
       "      <td>0.0</td>\n",
       "      <td>2.59</td>\n",
       "      <td>5.31</td>\n",
       "      <td>0</td>\n",
       "      <td>0.0</td>\n",
       "    </tr>\n",
       "    <tr>\n",
       "      <th>2020-01-01 01:11:00+00:00</th>\n",
       "      <td>0.0</td>\n",
       "      <td>0.0</td>\n",
       "      <td>0.0</td>\n",
       "      <td>0.0</td>\n",
       "      <td>2.75</td>\n",
       "      <td>5.38</td>\n",
       "      <td>0</td>\n",
       "      <td>0.0</td>\n",
       "    </tr>\n",
       "    <tr>\n",
       "      <th>2020-01-01 02:11:00+00:00</th>\n",
       "      <td>0.0</td>\n",
       "      <td>0.0</td>\n",
       "      <td>0.0</td>\n",
       "      <td>0.0</td>\n",
       "      <td>3.07</td>\n",
       "      <td>5.24</td>\n",
       "      <td>0</td>\n",
       "      <td>0.0</td>\n",
       "    </tr>\n",
       "    <tr>\n",
       "      <th>2020-01-01 03:11:00+00:00</th>\n",
       "      <td>0.0</td>\n",
       "      <td>0.0</td>\n",
       "      <td>0.0</td>\n",
       "      <td>0.0</td>\n",
       "      <td>3.33</td>\n",
       "      <td>5.45</td>\n",
       "      <td>0</td>\n",
       "      <td>0.0</td>\n",
       "    </tr>\n",
       "    <tr>\n",
       "      <th>2020-01-01 04:11:00+00:00</th>\n",
       "      <td>0.0</td>\n",
       "      <td>0.0</td>\n",
       "      <td>0.0</td>\n",
       "      <td>0.0</td>\n",
       "      <td>3.75</td>\n",
       "      <td>5.59</td>\n",
       "      <td>0</td>\n",
       "      <td>0.0</td>\n",
       "    </tr>\n",
       "  </tbody>\n",
       "</table>\n",
       "</div>"
      ],
      "text/plain": [
       "                           poa_direct  poa_sky_diffuse  poa_ground_diffuse  \\\n",
       "time                                                                         \n",
       "2020-01-01 00:11:00+00:00         0.0              0.0                 0.0   \n",
       "2020-01-01 01:11:00+00:00         0.0              0.0                 0.0   \n",
       "2020-01-01 02:11:00+00:00         0.0              0.0                 0.0   \n",
       "2020-01-01 03:11:00+00:00         0.0              0.0                 0.0   \n",
       "2020-01-01 04:11:00+00:00         0.0              0.0                 0.0   \n",
       "\n",
       "                           solar_elevation  temp_air  wind_speed  Int  ghi  \n",
       "time                                                                        \n",
       "2020-01-01 00:11:00+00:00              0.0      2.59        5.31    0  0.0  \n",
       "2020-01-01 01:11:00+00:00              0.0      2.75        5.38    0  0.0  \n",
       "2020-01-01 02:11:00+00:00              0.0      3.07        5.24    0  0.0  \n",
       "2020-01-01 03:11:00+00:00              0.0      3.33        5.45    0  0.0  \n",
       "2020-01-01 04:11:00+00:00              0.0      3.75        5.59    0  0.0  "
      ]
     },
     "execution_count": 8,
     "metadata": {},
     "output_type": "execute_result"
    }
   ],
   "source": [
    "# Write your code here\n",
    "# data_era5, meta_era5 = \n",
    "\n",
    "#### SOLUTION ####\n",
    "data_era5, meta_era5 = pvlib.iotools.get_pvgis_hourly(\n",
    "    latitude=latitude,\n",
    "    longitude=longitude,\n",
    "    start=2020,\n",
    "    end=2020,\n",
    "    raddatabase='PVGIS-ERA5',\n",
    ")\n",
    "\n",
    "data_era5['ghi'] = data_era5['poa_direct'] + data_era5['poa_sky_diffuse']\n",
    "\n",
    "data.head()"
   ]
  },
  {
   "cell_type": "markdown",
   "id": "35e4a95f-cf55-4a92-85cc-e4c2aaed18bf",
   "metadata": {
    "id": "35e4a95f-cf55-4a92-85cc-e4c2aaed18bf"
   },
   "source": [
    "## Step 6: Retrieve irradiance from CAMS\n",
    "\n",
    "In this step, you will retrieve irradiance data from a different source: the CAMS Radiation database.\n",
    "\n",
    "For this task, you can use the pvlib function [get_cams](https://pvlib-python.readthedocs.io/en/stable/reference/generated/pvlib.iotools.get_cams.html). Again, request data for 2020 for the same location. Make sure to select ``identifier='cams_radiation'`` to retrieve irradiance data (otherwise only clear sky irradiance is retrieved.\n",
    "\n",
    "Note that accessing CAMS data requires you to register for a user. For this exercise, you can use my email address as the credentials (no password is needed)."
   ]
  },
  {
   "cell_type": "code",
   "execution_count": 9,
   "id": "b8da96ef-8934-451a-a090-111f6543bea7",
   "metadata": {
    "id": "b8da96ef-8934-451a-a090-111f6543bea7"
   },
   "outputs": [
    {
     "data": {
      "text/html": [
       "<div>\n",
       "<style scoped>\n",
       "    .dataframe tbody tr th:only-of-type {\n",
       "        vertical-align: middle;\n",
       "    }\n",
       "\n",
       "    .dataframe tbody tr th {\n",
       "        vertical-align: top;\n",
       "    }\n",
       "\n",
       "    .dataframe thead th {\n",
       "        text-align: right;\n",
       "    }\n",
       "</style>\n",
       "<table border=\"1\" class=\"dataframe\">\n",
       "  <thead>\n",
       "    <tr style=\"text-align: right;\">\n",
       "      <th></th>\n",
       "      <th>Observation period</th>\n",
       "      <th>ghi_extra</th>\n",
       "      <th>ghi_clear</th>\n",
       "      <th>bhi_clear</th>\n",
       "      <th>dhi_clear</th>\n",
       "      <th>dni_clear</th>\n",
       "      <th>ghi</th>\n",
       "      <th>bhi</th>\n",
       "      <th>dhi</th>\n",
       "      <th>dni</th>\n",
       "      <th>Reliability</th>\n",
       "    </tr>\n",
       "  </thead>\n",
       "  <tbody>\n",
       "    <tr>\n",
       "      <th>2020-01-01 00:00:00+00:00</th>\n",
       "      <td>2020-01-01T00:00:00.0/2020-01-01T01:00:00.0</td>\n",
       "      <td>0.0</td>\n",
       "      <td>0.0</td>\n",
       "      <td>0.0</td>\n",
       "      <td>0.0</td>\n",
       "      <td>0.0</td>\n",
       "      <td>0.0</td>\n",
       "      <td>0.0</td>\n",
       "      <td>0.0</td>\n",
       "      <td>0.0</td>\n",
       "      <td>1.0</td>\n",
       "    </tr>\n",
       "    <tr>\n",
       "      <th>2020-01-01 01:00:00+00:00</th>\n",
       "      <td>2020-01-01T01:00:00.0/2020-01-01T02:00:00.0</td>\n",
       "      <td>0.0</td>\n",
       "      <td>0.0</td>\n",
       "      <td>0.0</td>\n",
       "      <td>0.0</td>\n",
       "      <td>0.0</td>\n",
       "      <td>0.0</td>\n",
       "      <td>0.0</td>\n",
       "      <td>0.0</td>\n",
       "      <td>0.0</td>\n",
       "      <td>1.0</td>\n",
       "    </tr>\n",
       "    <tr>\n",
       "      <th>2020-01-01 02:00:00+00:00</th>\n",
       "      <td>2020-01-01T02:00:00.0/2020-01-01T03:00:00.0</td>\n",
       "      <td>0.0</td>\n",
       "      <td>0.0</td>\n",
       "      <td>0.0</td>\n",
       "      <td>0.0</td>\n",
       "      <td>0.0</td>\n",
       "      <td>0.0</td>\n",
       "      <td>0.0</td>\n",
       "      <td>0.0</td>\n",
       "      <td>0.0</td>\n",
       "      <td>1.0</td>\n",
       "    </tr>\n",
       "    <tr>\n",
       "      <th>2020-01-01 03:00:00+00:00</th>\n",
       "      <td>2020-01-01T03:00:00.0/2020-01-01T04:00:00.0</td>\n",
       "      <td>0.0</td>\n",
       "      <td>0.0</td>\n",
       "      <td>0.0</td>\n",
       "      <td>0.0</td>\n",
       "      <td>0.0</td>\n",
       "      <td>0.0</td>\n",
       "      <td>0.0</td>\n",
       "      <td>0.0</td>\n",
       "      <td>0.0</td>\n",
       "      <td>1.0</td>\n",
       "    </tr>\n",
       "    <tr>\n",
       "      <th>2020-01-01 04:00:00+00:00</th>\n",
       "      <td>2020-01-01T04:00:00.0/2020-01-01T05:00:00.0</td>\n",
       "      <td>0.0</td>\n",
       "      <td>0.0</td>\n",
       "      <td>0.0</td>\n",
       "      <td>0.0</td>\n",
       "      <td>0.0</td>\n",
       "      <td>0.0</td>\n",
       "      <td>0.0</td>\n",
       "      <td>0.0</td>\n",
       "      <td>0.0</td>\n",
       "      <td>1.0</td>\n",
       "    </tr>\n",
       "  </tbody>\n",
       "</table>\n",
       "</div>"
      ],
      "text/plain": [
       "                                                    Observation period  \\\n",
       "2020-01-01 00:00:00+00:00  2020-01-01T00:00:00.0/2020-01-01T01:00:00.0   \n",
       "2020-01-01 01:00:00+00:00  2020-01-01T01:00:00.0/2020-01-01T02:00:00.0   \n",
       "2020-01-01 02:00:00+00:00  2020-01-01T02:00:00.0/2020-01-01T03:00:00.0   \n",
       "2020-01-01 03:00:00+00:00  2020-01-01T03:00:00.0/2020-01-01T04:00:00.0   \n",
       "2020-01-01 04:00:00+00:00  2020-01-01T04:00:00.0/2020-01-01T05:00:00.0   \n",
       "\n",
       "                           ghi_extra  ghi_clear  bhi_clear  dhi_clear  \\\n",
       "2020-01-01 00:00:00+00:00        0.0        0.0        0.0        0.0   \n",
       "2020-01-01 01:00:00+00:00        0.0        0.0        0.0        0.0   \n",
       "2020-01-01 02:00:00+00:00        0.0        0.0        0.0        0.0   \n",
       "2020-01-01 03:00:00+00:00        0.0        0.0        0.0        0.0   \n",
       "2020-01-01 04:00:00+00:00        0.0        0.0        0.0        0.0   \n",
       "\n",
       "                           dni_clear  ghi  bhi  dhi  dni  Reliability  \n",
       "2020-01-01 00:00:00+00:00        0.0  0.0  0.0  0.0  0.0          1.0  \n",
       "2020-01-01 01:00:00+00:00        0.0  0.0  0.0  0.0  0.0          1.0  \n",
       "2020-01-01 02:00:00+00:00        0.0  0.0  0.0  0.0  0.0          1.0  \n",
       "2020-01-01 03:00:00+00:00        0.0  0.0  0.0  0.0  0.0          1.0  \n",
       "2020-01-01 04:00:00+00:00        0.0  0.0  0.0  0.0  0.0          1.0  "
      ]
     },
     "execution_count": 9,
     "metadata": {},
     "output_type": "execute_result"
    }
   ],
   "source": [
    "# Write your code here\n",
    "\n",
    "#### SOLUTION ####\n",
    "data_cams, meta_cams = pvlib.iotools.get_cams(\n",
    "    latitude=latitude,\n",
    "    longitude=longitude,\n",
    "    start='2020-01-01',\n",
    "    end='2020-12-31 23:59',\n",
    "    email='redacted',\n",
    "    identifier='cams_radiation',\n",
    ")\n",
    "\n",
    "data_cams.head()"
   ]
  },
  {
   "cell_type": "markdown",
   "id": "c76629b3-7828-47a3-b25b-b1e7258f46bc",
   "metadata": {
    "id": "c76629b3-7828-47a3-b25b-b1e7258f46bc"
   },
   "source": [
    "## Step 7: Compare the annual irradiance\n",
    "\n",
    "The last step of this exercise is to compare the annual GHI obtained for the same location and year from different data sources. What is the maximum difference?\n",
    "\n",
    "You may also compare the irradiance to the long-term average GHI from the [Global Solar Atlas](http://globalsolaratlas.info/map)."
   ]
  },
  {
   "cell_type": "code",
   "execution_count": 14,
   "id": "da5f4300-99ba-4a36-9735-9535426f16cf",
   "metadata": {
    "id": "da5f4300-99ba-4a36-9735-9535426f16cf"
   },
   "outputs": [
    {
     "data": {
      "text/plain": [
       "SARAH3    1075.0\n",
       "ERA5      1060.0\n",
       "CAMS      1081.0\n",
       "dtype: float64"
      ]
     },
     "execution_count": 14,
     "metadata": {},
     "output_type": "execute_result"
    }
   ],
   "source": [
    "# Write your code here\n",
    "\n",
    "#### SOLUTION ####\n",
    "components = ['ghi', 'dhi', 'dni']\n",
    "\n",
    "data_bases = {\n",
    "    'SARAH3': data,\n",
    "    'ERA5': data_era5,\n",
    "    'CAMS': data_cams,\n",
    "}\n",
    "\n",
    "annual_irradiance = pd.Series()\n",
    "for db, dataframe in data_bases.items():\n",
    "    annual_irradiance[db] = dataframe['ghi'].sum()*10**-3\n",
    "\n",
    "annual_irradiance.round(0)"
   ]
  },
  {
   "cell_type": "code",
   "execution_count": 15,
   "id": "3de7cef6-f368-4b6c-a236-6efa8ea74b9e",
   "metadata": {
    "id": "d37dba06-dccb-4a5e-ae84-c29a280e473e"
   },
   "outputs": [],
   "source": [
    "#### SOLUTION ####\n",
    "# The values above show the annual GHI irradiance in kWh/m^2 from the three different databases.\n",
    "# The maximum difference is 2%, which is to be expected for publicly available satellite-derived irradiance datasets."
   ]
  },
  {
   "cell_type": "code",
   "execution_count": null,
   "id": "63280640-1336-45ac-9778-a05bd20e40ba",
   "metadata": {},
   "outputs": [],
   "source": []
  }
 ],
 "metadata": {
  "colab": {
   "generative_ai_disabled": true,
   "provenance": []
  },
  "kernelspec": {
   "display_name": "Python 3 (ipykernel)",
   "language": "python",
   "name": "python3"
  },
  "language_info": {
   "codemirror_mode": {
    "name": "ipython",
    "version": 3
   },
   "file_extension": ".py",
   "mimetype": "text/x-python",
   "name": "python",
   "nbconvert_exporter": "python",
   "pygments_lexer": "ipython3",
   "version": "3.11.7"
  }
 },
 "nbformat": 4,
 "nbformat_minor": 5
}

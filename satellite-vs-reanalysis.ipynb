{
 "cells": [
  {
   "cell_type": "markdown",
   "id": "06408e6a-5f71-46e1-a2e7-2cc04d44e486",
   "metadata": {
    "id": "06408e6a-5f71-46e1-a2e7-2cc04d44e486"
   },
   "source": [
    "# Modeled solar irradiance data\n",
    "\n",
    "In this tutorial, you will learn how to retrieve modeled solar irradiance data from various data sources.\n",
    "\n",
    "The objective of the exercise is to calculate the annual irradiance from different sources, as an indicator of the differences between the data sources."
   ]
  },
  {
   "cell_type": "code",
   "execution_count": null,
   "id": "066ed27f-a9e3-432c-8bbd-b5758740e596",
   "metadata": {
    "id": "066ed27f-a9e3-432c-8bbd-b5758740e596"
   },
   "outputs": [],
   "source": [
    "# Install pvlib on Google Colab as this is not a standard package.\n",
    "!pip install pvlib"
   ]
  },
  {
   "cell_type": "code",
   "execution_count": null,
   "id": "5bb89a67-12a9-48b2-873a-c425b67e4baa",
   "metadata": {
    "id": "5bb89a67-12a9-48b2-873a-c425b67e4baa"
   },
   "outputs": [],
   "source": [
    "import pvlib  # library for PV and solar calculations\n",
    "import pandas as pd  # library for data analysis\n",
    "import matplotlib.pyplot as plt  # library for plotting\n",
    "import numpy as np  # library for math and linear algebra"
   ]
  },
  {
   "cell_type": "markdown",
   "id": "a530f188-a73a-42f6-a1d5-02526542c6a4",
   "metadata": {
    "id": "a530f188-a73a-42f6-a1d5-02526542c6a4"
   },
   "source": [
    "## Step 1: Explore the PVGIS data viewer\n",
    "Visit the [PVGIS website](https://joint-research-centre.ec.europa.eu/photovoltaic-geographical-information-system-pvgis_en) to familiarize yourself with the various data retrieval options.\n",
    "\n",
    "To access data, click the \"Visit PVGIS\" button on the main landing page.\n",
    "\n",
    "You will notice 7 different tabs indicating different data options. Click on the \"Hourly data\" tab. Now, click on different parts of the world and inspect which options are available for the \"Solar radiation database\" drop-down menu. Are there always multiple options available? *Hint: look for the maximum latitude covered by satellite-derived data.*\n",
    "\n",
    "\n",
    "<br>"
   ]
  },
  {
   "cell_type": "markdown",
   "id": "58a98aa0-77a8-4443-b3b1-c585c2d3cd9a",
   "metadata": {
    "id": "58a98aa0-77a8-4443-b3b1-c585c2d3cd9a"
   },
   "source": [
    "## Step 2: Retrieve satellite-derived irradiance from PVGIS\n",
    "Once you've familiarized yourself with PVGIS, it is time to retrieve time series of solar irradiance from PVGIS. This can be done from the website interface, but for most analyses it is more convenient to import it directly to Python.\n",
    "\n",
    "Use the pvlib-python function [get_pvgis_hourly](https://pvlib-python.readthedocs.io/en/stable/reference/generated/pvlib.iotools.get_pvgis_hourly.html) to retrieve irradiance. Note that most of the input parameters are optional; for this exercise, we only want to retrieve data for 2020."
   ]
  },
  {
   "cell_type": "code",
   "execution_count": null,
   "id": "1c63401f-7671-4f2b-ac6c-d073cb916b84",
   "metadata": {
    "id": "1c63401f-7671-4f2b-ac6c-d073cb916b84"
   },
   "outputs": [],
   "source": [
    "latitude = 55.79\n",
    "longitude = 12.52\n",
    "\n",
    "# Write your code here"
   ]
  },
  {
   "cell_type": "markdown",
   "id": "aec6f649-e45f-4bd5-bde6-2ffb83c4d1b5",
   "metadata": {
    "id": "aec6f649-e45f-4bd5-bde6-2ffb83c4d1b5"
   },
   "source": [
    "## Step 3: Inspect the returned data\n",
    "\n",
    "Explore the returned data. Notice that the components are called \"POA_*\". The reason for this is that PVGIS allows for returning irradiance for tilted surfaces. Go back to the documentation and determine which two input parameters could be used to specify a different surface orientation.\n",
    "\n",
    "Note that the default surface is a horizontal surface. Therefore, you may add the individual components to calculate GHI."
   ]
  },
  {
   "cell_type": "code",
   "execution_count": null,
   "id": "a049806f-9028-4b53-9d05-d89ded65713e",
   "metadata": {
    "id": "a049806f-9028-4b53-9d05-d89ded65713e"
   },
   "outputs": [],
   "source": [
    "# Write your code here\n"
   ]
  },
  {
   "cell_type": "markdown",
   "id": "e711fc64-01ad-4694-8ed6-f29c62a384db",
   "metadata": {
    "id": "e711fc64-01ad-4694-8ed6-f29c62a384db"
   },
   "source": [
    "## Step 4: Determine which database was used\n",
    "For the data retrieval above, we did not specify which radiation database to use. Therefore, the default database for the specified location was used.\n",
    "\n",
    "Inspect the metadata object (the second object returned) to determine which database was used for the retrieval. Is this a satellite-based or a renalaysis datatset?"
   ]
  },
  {
   "cell_type": "code",
   "execution_count": null,
   "id": "21da0695-b864-4310-b780-cf27e23cb460",
   "metadata": {
    "id": "21da0695-b864-4310-b780-cf27e23cb460"
   },
   "outputs": [],
   "source": [
    "# Write your code here\n"
   ]
  },
  {
   "cell_type": "markdown",
   "id": "5452a354-6803-470d-ad10-f2a050499d03",
   "metadata": {
    "id": "5452a354-6803-470d-ad10-f2a050499d03"
   },
   "source": [
    "## Step 5: Retrieve reanalysis irradiance\n",
    "\n",
    "For the same location, use the PVGIS function again, but this time specify that the data source should be reanalysis data from ERA5.\n",
    "\n",
    "*Hint: the radiation database can be specified using the keyword `raddatabase=PVGIS-ERA5`.*"
   ]
  },
  {
   "cell_type": "code",
   "execution_count": null,
   "id": "8954a0c6-d9e3-4ffc-a39b-873669537ba5",
   "metadata": {
    "id": "8954a0c6-d9e3-4ffc-a39b-873669537ba5"
   },
   "outputs": [],
   "source": [
    "# Write your code here"
   ]
  },
  {
   "cell_type": "markdown",
   "id": "35e4a95f-cf55-4a92-85cc-e4c2aaed18bf",
   "metadata": {
    "id": "35e4a95f-cf55-4a92-85cc-e4c2aaed18bf"
   },
   "source": [
    "## Step 6: Retrieve irradiance from CAMS\n",
    "\n",
    "In this step, you will retrieve irradiance data from a different source: the CAMS Radiation database.\n",
    "\n",
    "For this task, you can use the pvlib function [get_cams](https://pvlib-python.readthedocs.io/en/stable/reference/generated/pvlib.iotools.get_cams.html). Again, request data for 2020 for the same location. Make sure to select `'identifier'='cams_radiation'` to retrieve irradiance data (otherwise only clear sky irradiance is retrieved.\n",
    "\n",
    "Note that accessing CAMS data requires you to register for a user. For this exercise, you can use my email address as the credentials (no password is needed)."
   ]
  },
  {
   "cell_type": "code",
   "execution_count": null,
   "id": "b8da96ef-8934-451a-a090-111f6543bea7",
   "metadata": {
    "id": "b8da96ef-8934-451a-a090-111f6543bea7"
   },
   "outputs": [],
   "source": [
    "# Write your code here"
   ]
  },
  {
   "cell_type": "markdown",
   "id": "c76629b3-7828-47a3-b25b-b1e7258f46bc",
   "metadata": {
    "id": "c76629b3-7828-47a3-b25b-b1e7258f46bc"
   },
   "source": [
    "## Step 7: Compare the annual irradiance\n",
    "\n",
    "The last step of this exercise is to compare the annual GHI obtained for the same location and year from different data sources. What is the maximum difference?\n",
    "\n",
    "You may also compare the irradiance to the long-term average GHI from the [Global Solar Atlas](http://globalsolaratlas.info/map)."
   ]
  },
  {
   "cell_type": "code",
   "execution_count": null,
   "id": "da5f4300-99ba-4a36-9735-9535426f16cf",
   "metadata": {
    "id": "da5f4300-99ba-4a36-9735-9535426f16cf"
   },
   "outputs": [],
   "source": [
    "# Write your code here"
   ]
  },
  {
   "cell_type": "code",
   "execution_count": null,
   "id": "d37dba06-dccb-4a5e-ae84-c29a280e473e",
   "metadata": {
    "id": "d37dba06-dccb-4a5e-ae84-c29a280e473e"
   },
   "outputs": [],
   "source": []
  }
 ],
 "metadata": {
  "colab": {
   "generative_ai_disabled": true,
   "provenance": []
  },
  "kernelspec": {
   "display_name": "Python 3 (ipykernel)",
   "language": "python",
   "name": "python3"
  },
  "language_info": {
   "codemirror_mode": {
    "name": "ipython",
    "version": 3
   },
   "file_extension": ".py",
   "mimetype": "text/x-python",
   "name": "python",
   "nbconvert_exporter": "python",
   "pygments_lexer": "ipython3",
   "version": "3.11.7"
  }
 },
 "nbformat": 4,
 "nbformat_minor": 5
}

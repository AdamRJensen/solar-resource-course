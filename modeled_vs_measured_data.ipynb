{
 "cells": [
  {
   "cell_type": "markdown",
   "id": "6ed95c5e-e272-4359-824b-9415aee9985e",
   "metadata": {
    "id": "6ed95c5e-e272-4359-824b-9415aee9985e"
   },
   "source": [
    "# Comparing measured and modeled data\n",
    "\n",
    "In the previous exercise, you probably noticed that the different modeled datasets did not exactly agree on the amount of irradiance, even for the same place and time period.\n",
    "\n",
    "The way to assess the accuracy of modeled irradiance data is to compare it with high-quality ground measurements, which is the aim of this exercise."
   ]
  },
  {
   "cell_type": "code",
   "execution_count": null,
   "id": "066ed27f-a9e3-432c-8bbd-b5758740e596",
   "metadata": {
    "id": "066ed27f-a9e3-432c-8bbd-b5758740e596"
   },
   "outputs": [],
   "source": [
    "# Install pvlib on Google Colab as this is not a standard package.\n",
    "!pip install pvlib"
   ]
  },
  {
   "cell_type": "code",
   "execution_count": 6,
   "id": "5bb89a67-12a9-48b2-873a-c425b67e4baa",
   "metadata": {
    "id": "5bb89a67-12a9-48b2-873a-c425b67e4baa"
   },
   "outputs": [],
   "source": [
    "import pvlib  # library for PV and solar calculations\n",
    "import pandas as pd  # library for data analysis\n",
    "import matplotlib.pyplot as plt  # library for plotting\n",
    "import numpy as np  # library for math and linear algebra"
   ]
  },
  {
   "cell_type": "markdown",
   "id": "846ddaa4-a482-4155-9121-495d4120f6f8",
   "metadata": {
    "id": "c6e79e4d-fcce-4e08-b6a0-ccd60036198c"
   },
   "source": [
    "## Step 1: Retrieve measured data\n",
    "\n",
    "For this exercise, we will be using measurements from the Cabauw BSRN station (`station='CAB'`). The station is selected because of the high-quality, and that quality-control has already been performed on the data.\n",
    "\n",
    "**Credentials for the BSRN FTP server are available on Learn.**."
   ]
  },
  {
   "cell_type": "code",
   "execution_count": null,
   "id": "6ef84118-3a4c-45b8-9b1a-9fb235e20cf9",
   "metadata": {
    "id": "c6e79e4d-fcce-4e08-b6a0-ccd60036198c"
   },
   "outputs": [],
   "source": [
    "# Write your code here\n",
    "# data_measured, meta_measured =  \n",
    "\n",
    "#### SOLUTION ####\n",
    "data_measured, meta_measured = pvlib.iotools.get_bsrn(\n",
    "    station='CAB',\n",
    "    start='2020-01-01',\n",
    "    end='2020-12-31',\n",
    "    username='redacted',\n",
    "    password='redacted',\n",
    ")\n",
    "\n",
    "data_measured.head()"
   ]
  },
  {
   "cell_type": "markdown",
   "id": "81823b17-8254-457f-9075-f97d7c328628",
   "metadata": {
    "id": "1cc1a658-214a-448b-92b5-027a0706cd11"
   },
   "source": [
    "## Step 2: Resample measurement data to hourly\n",
    "Since the satellite data we will be working with is hourly, we need to resample the 1-minute measurement data to hourly.\n",
    "\n",
    "To do this, you can use the built-in function `data_measured.resample('1h').mean()`. In order for the solar position to be calculated correction for hourly data, the timestamps have to correspond to the middle of the period. Therefore, add or subtract half an hour from the index depending on whether the data is left or right-labeled. For left-labeled data, the hour 00:00 to 01:00 would be labeled 00:00."
   ]
  },
  {
   "cell_type": "code",
   "execution_count": null,
   "id": "28dad4af-578c-45bb-815b-9e723e19c89e",
   "metadata": {
    "id": "1cc1a658-214a-448b-92b5-027a0706cd11"
   },
   "outputs": [],
   "source": [
    "# Write your code here\n",
    "\n",
    "#### SOLUTION ####\n",
    "data_measured = data_measured.resample('1h').mean(label='left')\n",
    "\n",
    "data_measured.index = data_measured.index + pd.Timedelta(minutes=60)\n",
    "\n",
    "data_measured.head()"
   ]
  },
  {
   "cell_type": "markdown",
   "id": "5ed39fe5-d382-4f59-bd62-10460dd1e0ad",
   "metadata": {
    "id": "1cc1a658-214a-448b-92b5-027a0706cd11"
   },
   "source": [
    "## Step 3: Calculate solar position\n",
    "\n",
    "Calculate the solar position for the timestamps of the hourly indexes from the previous step.\n",
    "\n",
    "Look through the exercises on \"Calculating solar position in Python\" if you need a refresher on how to do this."
   ]
  },
  {
   "cell_type": "code",
   "execution_count": null,
   "id": "eae08ce4-e9c3-49ec-94a3-44dfc5b08e00",
   "metadata": {
    "id": "1cc1a658-214a-448b-92b5-027a0706cd11"
   },
   "outputs": [],
   "source": [
    "# Write your code here\n",
    "\n",
    "#### SOLUTION ####\n",
    "location = pvlib.location.Location(\n",
    "    latitude=meta['latitude'],\n",
    "    longitude=meta['longitude'],\n",
    ")\n",
    "\n",
    "solpos = location.get_solarposition(data_measured.index)\n",
    "\n",
    "solpos.head()"
   ]
  },
  {
   "cell_type": "markdown",
   "id": "f5fbb552-9687-4b18-84d3-3dc373dbb0b8",
   "metadata": {
    "id": "1cc1a658-214a-448b-92b5-027a0706cd11"
   },
   "source": [
    "## Step 4: Retrieve modeled data\n",
    "\n",
    "For the comparison, we will only use one modeled dataset, namely CAMS Radiation (see the previous exercise on how to retrieve this).\n",
    "\n",
    "Retrieve CAMS irradiance data for the same location and period:"
   ]
  },
  {
   "cell_type": "code",
   "execution_count": null,
   "id": "9a8cac42-8f3c-41d9-91ce-48d1e3f20228",
   "metadata": {
    "id": "9a8cac42-8f3c-41d9-91ce-48d1e3f20228"
   },
   "outputs": [],
   "source": [
    "# Write your code here\n",
    "data_model, meta_model = pvlib.iotools.get_cams(\n",
    "    latitude=location.latitude,\n",
    "    longitude=location.longitude,\n",
    "    start='2020-01-01',\n",
    "    end='2020-12-31 23:59',\n",
    "    email='arajen@dtu.dk',\n",
    "    identifier='cams_radiation',\n",
    "    time_step='1h',\n",
    "    label='left',\n",
    ")\n",
    "\n",
    "data_model.index = data_model.index + pd.Timedelta(minutes=30)\n",
    "\n",
    "data_model.head()"
   ]
  },
  {
   "cell_type": "markdown",
   "id": "4e69a5b8-e4dc-4e54-81a2-4cbd629c38c7",
   "metadata": {
    "id": "d165e025-19a4-4c71-a358-bb04dbc8c4ed"
   },
   "source": [
    "## Step 5: Visual comparison\n",
    "\n",
    "As a first assessment, it is always useful to plot the data.\n",
    "\n",
    "There are many useful plots to make, but as a first inspection, a scatter plot works nicely.\n",
    "\n",
    "What other useful plots can you think of?"
   ]
  },
  {
   "cell_type": "code",
   "execution_count": null,
   "id": "e5821af8-f49b-49fd-9c26-f5bd8a25077a",
   "metadata": {
    "id": "e5821af8-f49b-49fd-9c26-f5bd8a25077a"
   },
   "outputs": [],
   "source": [
    "# Write your code here\n",
    "\n",
    "#### SOLUTION ####\n",
    "components = ['ghi', 'dhi', 'dni']\n",
    "\n",
    "fig, axes = plt.subplots(ncols=3, figsize=(10, 4), sharey=True)\n",
    "for ax, c in zip(axes, components):\n",
    "    ax.set_title(c)\n",
    "    ax.scatter(data_measured[c], data_model[c])\n",
    "\n",
    "axes[0].set_ylabel('Modeled irradiance [W/m$^2$]')\n",
    "axes[1].set_xlabel('Measured irradiance [W/m$^2$]')"
   ]
  },
  {
   "cell_type": "markdown",
   "id": "81fda51c-b61c-46c3-a226-6a62e5ce0b4b",
   "metadata": {
    "id": "dbee3048-9d5c-4f19-8bab-3da834b10504"
   },
   "source": [
    "## Step 6: Calculate deviation metrics\n",
    "\n",
    "While the graphical comparison is a good starting point, it doesn't give any quantitative metrics.\n",
    "\n",
    "To quantitatively compare two datasets, it is common practice to calculate the following deviation metrics:\n",
    "- Root mean square deviation\n",
    "- Mean absolute deviation\n",
    "- Mean deviation (bias)\n",
    "\n",
    "Calculate these deviation metrics for solar elevation angles greater than 10 degrees (to avoid using measurements that are affected by shading)."
   ]
  },
  {
   "cell_type": "code",
   "execution_count": null,
   "id": "29687e53-ac43-4a18-8a02-7799ca8659a0",
   "metadata": {
    "id": "29687e53-ac43-4a18-8a02-7799ca8659a0"
   },
   "outputs": [],
   "source": [
    "# Write your code here\n",
    "\n",
    "is_daytime = solpos['apparent_zenith'] < 90\n",
    "\n",
    "for c in components:\n",
    "    rmsd = np.sqrt(np.mean((data_measured.loc[is_daytime, c] - data_model.loc[is_daytime, c])**2))\n",
    "    mad = np.mean(np.abs(data_measured.loc[is_daytime, c] - data_model.loc[is_daytime, c]))\n",
    "    bias = np.mean(data_measured.loc[is_daytime, c] - data_model.loc[is_daytime, c])\n",
    "    print(f\"Component: {c}\")\n",
    "    print(f\"RMSD: {rmsd:.1f}\")\n",
    "    print(f\"MAD: {mad:.1f}\")\n",
    "    print(f\"Bias: {bias:.1f}\")"
   ]
  },
  {
   "cell_type": "markdown",
   "id": "0b06b538-da9a-4b21-9d04-fe8fcce5c4d1",
   "metadata": {
    "id": "6fce2b64-8d7f-4cfd-937c-3edb522aaab4"
   },
   "source": [
    "## Step 7: Compare distribution function\n",
    "\n",
    "The deviation metrics gave high-level insight into the deviation between the datasets, but did not indicate how and why the data deviated.\n",
    "\n",
    "To investigate this, it is useful to compare the distribution of observed irradiances between the two datasets.\n",
    "\n",
    "In this step, plot the distribution function of GHI for the two datasets.\n",
    "\n",
    "*Hint: Plotting overlapping histograms is one way to do this. You can make the plots semi-transparent using the `alpha` keyword.*"
   ]
  },
  {
   "cell_type": "code",
   "execution_count": 19,
   "id": "f79517b2-d8f8-4bdd-940e-288abbb35a1c",
   "metadata": {
    "id": "f79517b2-d8f8-4bdd-940e-288abbb35a1c"
   },
   "outputs": [],
   "source": [
    "# Write your code here\n",
    "fig, axes = plt.subplots(ncols=len(components), sharey=True, figsize=(10, 4))\n",
    "for ax, c in zip(axes, components):\n",
    "    ax.plot.hist(df_measured.loc[is_datyime, c], c='C0')\n",
    "    ax.plot.hist(df_model.loc[is_datyime, c], c='C1', alpha=0.5)\n",
    "\n",
    "axes[1].legend()"
   ]
  },
  {
   "cell_type": "code",
   "execution_count": null,
   "id": "92f044f8-d239-4fd6-aa4b-9a3a4e76cf9a",
   "metadata": {},
   "outputs": [],
   "source": []
  }
 ],
 "metadata": {
  "colab": {
   "generative_ai_disabled": true,
   "provenance": []
  },
  "kernelspec": {
   "display_name": "Python 3 (ipykernel)",
   "language": "python",
   "name": "python3"
  },
  "language_info": {
   "codemirror_mode": {
    "name": "ipython",
    "version": 3
   },
   "file_extension": ".py",
   "mimetype": "text/x-python",
   "name": "python",
   "nbconvert_exporter": "python",
   "pygments_lexer": "ipython3",
   "version": "3.11.7"
  }
 },
 "nbformat": 4,
 "nbformat_minor": 5
}

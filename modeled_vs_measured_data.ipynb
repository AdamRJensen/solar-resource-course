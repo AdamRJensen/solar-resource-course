{
  "cells": [
    {
      "cell_type": "markdown",
      "metadata": {
        "id": "6ed95c5e-e272-4359-824b-9415aee9985e"
      },
      "source": [
        "# Comparing measured and modeled data\n",
        "\n"
      ]
    },
    {
      "cell_type": "code",
      "execution_count": null,
      "id": "066ed27f-a9e3-432c-8bbd-b5758740e596",
      "metadata": {
        "id": "066ed27f-a9e3-432c-8bbd-b5758740e596"
      },
      "outputs": [],
      "source": [
        "# Install pvlib on Google Colab as this is not a standard package.\n",
        "!pip install pvlib"
      ]
    },
    {
      "cell_type": "code",
      "execution_count": null,
      "id": "5bb89a67-12a9-48b2-873a-c425b67e4baa",
      "metadata": {
        "id": "5bb89a67-12a9-48b2-873a-c425b67e4baa"
      },
      "outputs": [],
      "source": [
        "import pvlib  # library for PV and solar calculations\n",
        "import pandas as pd  # library for data analysis\n",
        "import matplotlib.pyplot as plt  # library for plotting\n",
        "import numpy as np  # library for math and linear algebra"
      ]
    },
    {
      "cell_type": "code",
      "execution_count": null,
      "id": "c6e79e4d-fcce-4e08-b6a0-ccd60036198c",
      "metadata": {
        "id": "c6e79e4d-fcce-4e08-b6a0-ccd60036198c"
      },
      "outputs": [],
      "source": []
    },
    {
      "cell_type": "code",
      "execution_count": null,
      "id": "1cc1a658-214a-448b-92b5-027a0706cd11",
      "metadata": {
        "id": "1cc1a658-214a-448b-92b5-027a0706cd11"
      },
      "outputs": [],
      "source": []
    },
    {
      "cell_type": "code",
      "execution_count": null,
      "id": "9a8cac42-8f3c-41d9-91ce-48d1e3f20228",
      "metadata": {
        "id": "9a8cac42-8f3c-41d9-91ce-48d1e3f20228"
      },
      "outputs": [],
      "source": []
    },
    {
      "cell_type": "code",
      "execution_count": null,
      "id": "d165e025-19a4-4c71-a358-bb04dbc8c4ed",
      "metadata": {
        "id": "d165e025-19a4-4c71-a358-bb04dbc8c4ed"
      },
      "outputs": [],
      "source": []
    },
    {
      "cell_type": "code",
      "execution_count": null,
      "id": "e5821af8-f49b-49fd-9c26-f5bd8a25077a",
      "metadata": {
        "id": "e5821af8-f49b-49fd-9c26-f5bd8a25077a"
      },
      "outputs": [],
      "source": []
    },
    {
      "cell_type": "code",
      "execution_count": null,
      "id": "dbee3048-9d5c-4f19-8bab-3da834b10504",
      "metadata": {
        "id": "dbee3048-9d5c-4f19-8bab-3da834b10504"
      },
      "outputs": [],
      "source": []
    },
    {
      "cell_type": "code",
      "execution_count": null,
      "id": "29687e53-ac43-4a18-8a02-7799ca8659a0",
      "metadata": {
        "id": "29687e53-ac43-4a18-8a02-7799ca8659a0"
      },
      "outputs": [],
      "source": []
    },
    {
      "cell_type": "code",
      "execution_count": null,
      "id": "6fce2b64-8d7f-4cfd-937c-3edb522aaab4",
      "metadata": {
        "id": "6fce2b64-8d7f-4cfd-937c-3edb522aaab4"
      },
      "outputs": [],
      "source": []
    },
    {
      "cell_type": "code",
      "execution_count": null,
      "id": "f79517b2-d8f8-4bdd-940e-288abbb35a1c",
      "metadata": {
        "id": "f79517b2-d8f8-4bdd-940e-288abbb35a1c"
      },
      "outputs": [],
      "source": []
    },
    {
      "cell_type": "code",
      "execution_count": null,
      "id": "999ebf33-9d1c-4735-80cc-1d4bb1039653",
      "metadata": {
        "id": "999ebf33-9d1c-4735-80cc-1d4bb1039653"
      },
      "outputs": [],
      "source": []
    },
    {
      "cell_type": "code",
      "execution_count": null,
      "id": "b93bc41f-e129-4ece-8f7d-2e74eb75faa2",
      "metadata": {
        "id": "b93bc41f-e129-4ece-8f7d-2e74eb75faa2"
      },
      "outputs": [],
      "source": []
    }
  ],
  "metadata": {
    "kernelspec": {
      "display_name": "Python 3",
      "name": "python3"
    },
    "language_info": {
      "codemirror_mode": {
        "name": "ipython",
        "version": 3
      },
      "file_extension": ".py",
      "mimetype": "text/x-python",
      "name": "python",
      "nbconvert_exporter": "python",
      "pygments_lexer": "ipython3",
      "version": "3.11.7"
    },
    "colab": {
      "provenance": [],
      "generative_ai_disabled": true
    }
  },
  "nbformat": 4,
  "nbformat_minor": 5
}
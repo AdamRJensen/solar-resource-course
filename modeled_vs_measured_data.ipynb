{
 "cells": [
  {
   "cell_type": "markdown",
   "id": "6ed95c5e-e272-4359-824b-9415aee9985e",
   "metadata": {
    "id": "6ed95c5e-e272-4359-824b-9415aee9985e"
   },
   "source": [
    "# Comparing measured and modeled data\n",
    "\n",
    "In the previous exercise, you probably noticed that the different modeled datasets did not exactly agree on the amount of irradiance, even for the same place and time period.\n",
    "\n",
    "The way to assess the accuracy of modeled irradiance data is to compare it with high-quality ground measurements, which is the aim of this exercise."
   ]
  },
  {
   "cell_type": "code",
   "execution_count": null,
   "id": "066ed27f-a9e3-432c-8bbd-b5758740e596",
   "metadata": {
    "id": "066ed27f-a9e3-432c-8bbd-b5758740e596"
   },
   "outputs": [],
   "source": [
    "# Install pvlib on Google Colab as this is not a standard package.\n",
    "!pip install pvlib"
   ]
  },
  {
   "cell_type": "code",
   "execution_count": 1,
   "id": "5bb89a67-12a9-48b2-873a-c425b67e4baa",
   "metadata": {
    "id": "5bb89a67-12a9-48b2-873a-c425b67e4baa"
   },
   "outputs": [],
   "source": [
    "import pvlib  # library for PV and solar calculations\n",
    "import pandas as pd  # library for data analysis\n",
    "import matplotlib.pyplot as plt  # library for plotting\n",
    "import numpy as np  # library for math and linear algebra"
   ]
  },
  {
   "cell_type": "markdown",
   "id": "846ddaa4-a482-4155-9121-495d4120f6f8",
   "metadata": {
    "id": "c6e79e4d-fcce-4e08-b6a0-ccd60036198c"
   },
   "source": [
    "## Step 1: Retrieve measured data\n",
    "\n",
    "For this exercise, we will be using measurements from the Cabauw BSRN station (`'station'='CAB'`). The station is selected because of the high-quality, and that quality-control has already been performed on the data.\n",
    "\n",
    "**Credentials for the BSRN FTP server are available on Learn.**."
   ]
  },
  {
   "cell_type": "code",
   "execution_count": 14,
   "id": "6ef84118-3a4c-45b8-9b1a-9fb235e20cf9",
   "metadata": {
    "id": "c6e79e4d-fcce-4e08-b6a0-ccd60036198c"
   },
   "outputs": [],
   "source": [
    "# Write your code here\n",
    "data_measured, meta_measured = "
   ]
  },
  {
   "cell_type": "markdown",
   "id": "81823b17-8254-457f-9075-f97d7c328628",
   "metadata": {
    "id": "1cc1a658-214a-448b-92b5-027a0706cd11"
   },
   "source": [
    "## Step 2: Resample measurement data to hourly\n",
    "Since the satellite data we will be working with is hourly, we need to resample the 1-minute measurement data to hourly.\n",
    "\n",
    "To do this, you can use the built-in function `data_measured.resample('1h').mean()`. Make sure to specify that the index should be left labeled (e.g., the period 00:00 to 00:59 is labeled 00:00)."
   ]
  },
  {
   "cell_type": "code",
   "execution_count": 15,
   "id": "2c83e9c5-06e9-4183-ab43-a1dc7b1331f2",
   "metadata": {
    "id": "1cc1a658-214a-448b-92b5-027a0706cd11"
   },
   "outputs": [],
   "source": [
    "# Write your code here"
   ]
  },
  {
   "cell_type": "markdown",
   "id": "f5fbb552-9687-4b18-84d3-3dc373dbb0b8",
   "metadata": {
    "id": "1cc1a658-214a-448b-92b5-027a0706cd11"
   },
   "source": [
    "## Step 3: Retrieve modeled data\n",
    "\n",
    "For the comparison, we will only use one modeled dataset, namely CAMS Radiation (see the previous exercise on how to retrieve this).\n",
    "\n",
    "Retrieve CAMS irradiance data for the same location and period:"
   ]
  },
  {
   "cell_type": "code",
   "execution_count": 18,
   "id": "9a8cac42-8f3c-41d9-91ce-48d1e3f20228",
   "metadata": {
    "id": "9a8cac42-8f3c-41d9-91ce-48d1e3f20228"
   },
   "outputs": [
    {
     "data": {
      "text/html": [
       "<div>\n",
       "<style scoped>\n",
       "    .dataframe tbody tr th:only-of-type {\n",
       "        vertical-align: middle;\n",
       "    }\n",
       "\n",
       "    .dataframe tbody tr th {\n",
       "        vertical-align: top;\n",
       "    }\n",
       "\n",
       "    .dataframe thead th {\n",
       "        text-align: right;\n",
       "    }\n",
       "</style>\n",
       "<table border=\"1\" class=\"dataframe\">\n",
       "  <thead>\n",
       "    <tr style=\"text-align: right;\">\n",
       "      <th></th>\n",
       "      <th>Observation period</th>\n",
       "      <th>ghi_extra</th>\n",
       "      <th>ghi_clear</th>\n",
       "      <th>bhi_clear</th>\n",
       "      <th>dhi_clear</th>\n",
       "      <th>dni_clear</th>\n",
       "      <th>ghi</th>\n",
       "      <th>bhi</th>\n",
       "      <th>dhi</th>\n",
       "      <th>dni</th>\n",
       "      <th>Reliability</th>\n",
       "    </tr>\n",
       "  </thead>\n",
       "  <tbody>\n",
       "    <tr>\n",
       "      <th>2020-01-01 00:00:00+00:00</th>\n",
       "      <td>2020-01-01T00:00:00.0/2020-01-01T01:00:00.0</td>\n",
       "      <td>0.0</td>\n",
       "      <td>0.0</td>\n",
       "      <td>0.0</td>\n",
       "      <td>0.0</td>\n",
       "      <td>0.0</td>\n",
       "      <td>0.0</td>\n",
       "      <td>0.0</td>\n",
       "      <td>0.0</td>\n",
       "      <td>0.0</td>\n",
       "      <td>1.0</td>\n",
       "    </tr>\n",
       "    <tr>\n",
       "      <th>2020-01-01 01:00:00+00:00</th>\n",
       "      <td>2020-01-01T01:00:00.0/2020-01-01T02:00:00.0</td>\n",
       "      <td>0.0</td>\n",
       "      <td>0.0</td>\n",
       "      <td>0.0</td>\n",
       "      <td>0.0</td>\n",
       "      <td>0.0</td>\n",
       "      <td>0.0</td>\n",
       "      <td>0.0</td>\n",
       "      <td>0.0</td>\n",
       "      <td>0.0</td>\n",
       "      <td>1.0</td>\n",
       "    </tr>\n",
       "    <tr>\n",
       "      <th>2020-01-01 02:00:00+00:00</th>\n",
       "      <td>2020-01-01T02:00:00.0/2020-01-01T03:00:00.0</td>\n",
       "      <td>0.0</td>\n",
       "      <td>0.0</td>\n",
       "      <td>0.0</td>\n",
       "      <td>0.0</td>\n",
       "      <td>0.0</td>\n",
       "      <td>0.0</td>\n",
       "      <td>0.0</td>\n",
       "      <td>0.0</td>\n",
       "      <td>0.0</td>\n",
       "      <td>1.0</td>\n",
       "    </tr>\n",
       "    <tr>\n",
       "      <th>2020-01-01 03:00:00+00:00</th>\n",
       "      <td>2020-01-01T03:00:00.0/2020-01-01T04:00:00.0</td>\n",
       "      <td>0.0</td>\n",
       "      <td>0.0</td>\n",
       "      <td>0.0</td>\n",
       "      <td>0.0</td>\n",
       "      <td>0.0</td>\n",
       "      <td>0.0</td>\n",
       "      <td>0.0</td>\n",
       "      <td>0.0</td>\n",
       "      <td>0.0</td>\n",
       "      <td>1.0</td>\n",
       "    </tr>\n",
       "    <tr>\n",
       "      <th>2020-01-01 04:00:00+00:00</th>\n",
       "      <td>2020-01-01T04:00:00.0/2020-01-01T05:00:00.0</td>\n",
       "      <td>0.0</td>\n",
       "      <td>0.0</td>\n",
       "      <td>0.0</td>\n",
       "      <td>0.0</td>\n",
       "      <td>0.0</td>\n",
       "      <td>0.0</td>\n",
       "      <td>0.0</td>\n",
       "      <td>0.0</td>\n",
       "      <td>0.0</td>\n",
       "      <td>1.0</td>\n",
       "    </tr>\n",
       "  </tbody>\n",
       "</table>\n",
       "</div>"
      ],
      "text/plain": [
       "                                                    Observation period  \\\n",
       "2020-01-01 00:00:00+00:00  2020-01-01T00:00:00.0/2020-01-01T01:00:00.0   \n",
       "2020-01-01 01:00:00+00:00  2020-01-01T01:00:00.0/2020-01-01T02:00:00.0   \n",
       "2020-01-01 02:00:00+00:00  2020-01-01T02:00:00.0/2020-01-01T03:00:00.0   \n",
       "2020-01-01 03:00:00+00:00  2020-01-01T03:00:00.0/2020-01-01T04:00:00.0   \n",
       "2020-01-01 04:00:00+00:00  2020-01-01T04:00:00.0/2020-01-01T05:00:00.0   \n",
       "\n",
       "                           ghi_extra  ghi_clear  bhi_clear  dhi_clear  \\\n",
       "2020-01-01 00:00:00+00:00        0.0        0.0        0.0        0.0   \n",
       "2020-01-01 01:00:00+00:00        0.0        0.0        0.0        0.0   \n",
       "2020-01-01 02:00:00+00:00        0.0        0.0        0.0        0.0   \n",
       "2020-01-01 03:00:00+00:00        0.0        0.0        0.0        0.0   \n",
       "2020-01-01 04:00:00+00:00        0.0        0.0        0.0        0.0   \n",
       "\n",
       "                           dni_clear  ghi  bhi  dhi  dni  Reliability  \n",
       "2020-01-01 00:00:00+00:00        0.0  0.0  0.0  0.0  0.0          1.0  \n",
       "2020-01-01 01:00:00+00:00        0.0  0.0  0.0  0.0  0.0          1.0  \n",
       "2020-01-01 02:00:00+00:00        0.0  0.0  0.0  0.0  0.0          1.0  \n",
       "2020-01-01 03:00:00+00:00        0.0  0.0  0.0  0.0  0.0          1.0  \n",
       "2020-01-01 04:00:00+00:00        0.0  0.0  0.0  0.0  0.0          1.0  "
      ]
     },
     "execution_count": 18,
     "metadata": {},
     "output_type": "execute_result"
    }
   ],
   "source": [
    "# Write your code here\n",
    "data_model, meta_model = "
   ]
  },
  {
   "cell_type": "markdown",
   "id": "4e69a5b8-e4dc-4e54-81a2-4cbd629c38c7",
   "metadata": {
    "id": "d165e025-19a4-4c71-a358-bb04dbc8c4ed"
   },
   "source": [
    "## Step 4: Visual comparison\n",
    "\n",
    "As a first assessment, it is always useful to plot the data.\n",
    "\n",
    "There are many useful plots to make, but as a first inspection, a scatter plot works nicely.\n",
    "\n",
    "What other useful plots can you think of?"
   ]
  },
  {
   "cell_type": "code",
   "execution_count": null,
   "id": "e5821af8-f49b-49fd-9c26-f5bd8a25077a",
   "metadata": {
    "id": "e5821af8-f49b-49fd-9c26-f5bd8a25077a"
   },
   "outputs": [],
   "source": [
    "# Write your code here"
   ]
  },
  {
   "cell_type": "markdown",
   "id": "81fda51c-b61c-46c3-a226-6a62e5ce0b4b",
   "metadata": {
    "id": "dbee3048-9d5c-4f19-8bab-3da834b10504"
   },
   "source": [
    "## Step 5: Calculate deviation metrics\n",
    "\n",
    "While the graphical comparison is a good starting point, it doesn't give any quantitative metrics.\n",
    "\n",
    "To quantitatively compare two datasets, it is common practice to calculate the following deviation metrics:\n",
    "- Root mean square deviation\n",
    "- Absolute mean deviation\n",
    "- Mean deviation (bias)\n",
    "\n",
    "Calculate these deviation metrics for solar elevation angles greater than 10 degrees (to avoid using measurements that are affected by shading)."
   ]
  },
  {
   "cell_type": "code",
   "execution_count": null,
   "id": "29687e53-ac43-4a18-8a02-7799ca8659a0",
   "metadata": {
    "id": "29687e53-ac43-4a18-8a02-7799ca8659a0"
   },
   "outputs": [],
   "source": [
    "# Write your code here"
   ]
  },
  {
   "cell_type": "markdown",
   "id": "0b06b538-da9a-4b21-9d04-fe8fcce5c4d1",
   "metadata": {
    "id": "6fce2b64-8d7f-4cfd-937c-3edb522aaab4"
   },
   "source": [
    "## Step 6: Compare distribution function\n",
    "\n",
    "The deviation metrics gave high-level insight into the deviation between the datasets, but did not indicate how and why the data deviated.\n",
    "\n",
    "To investigate this, it is useful to compare the distribution of observed irradiances between the two datasets.\n",
    "\n",
    "In this step, plot the distribution function of GHI for the two datasets."
   ]
  },
  {
   "cell_type": "code",
   "execution_count": 19,
   "id": "f79517b2-d8f8-4bdd-940e-288abbb35a1c",
   "metadata": {
    "id": "f79517b2-d8f8-4bdd-940e-288abbb35a1c"
   },
   "outputs": [],
   "source": [
    "# Write your code here"
   ]
  },
  {
   "cell_type": "code",
   "execution_count": null,
   "id": "92f044f8-d239-4fd6-aa4b-9a3a4e76cf9a",
   "metadata": {},
   "outputs": [],
   "source": []
  }
 ],
 "metadata": {
  "colab": {
   "generative_ai_disabled": true,
   "provenance": []
  },
  "kernelspec": {
   "display_name": "Python 3 (ipykernel)",
   "language": "python",
   "name": "python3"
  },
  "language_info": {
   "codemirror_mode": {
    "name": "ipython",
    "version": 3
   },
   "file_extension": ".py",
   "mimetype": "text/x-python",
   "name": "python",
   "nbconvert_exporter": "python",
   "pygments_lexer": "ipython3",
   "version": "3.11.7"
  }
 },
 "nbformat": 4,
 "nbformat_minor": 5
}

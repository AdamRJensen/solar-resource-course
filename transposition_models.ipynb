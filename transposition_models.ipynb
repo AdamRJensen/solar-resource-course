{
 "cells": [
  {
   "cell_type": "markdown",
   "id": "988a3da9-f6cc-4a7a-81ba-91f2c1a408c5",
   "metadata": {},
   "source": [
    "# Transposition of solar irradiance\n",
    "\n",
    "In this tutorial you will learn how to calculate solar irradiance on a tilted surface using transposition models available in pvlib-python.\n",
    "\n",
    "The first step is to import a few Python packages."
   ]
  },
  {
   "cell_type": "code",
   "execution_count": null,
   "id": "066ed27f-a9e3-432c-8bbd-b5758740e596",
   "metadata": {},
   "outputs": [],
   "source": [
    "# Install pvlib on Google Colab as this is not a standard package.\n",
    "!pip install pvlib"
   ]
  },
  {
   "cell_type": "code",
   "execution_count": 2,
   "id": "5bb89a67-12a9-48b2-873a-c425b67e4baa",
   "metadata": {},
   "outputs": [],
   "source": [
    "import pvlib  # library for PV and solar calculations\n",
    "import pandas as pd  # library for data analysis\n",
    "import matplotlib.pyplot as plt  # library for plotting\n",
    "import numpy as np  # library for math and linear algebra"
   ]
  },
  {
   "cell_type": "markdown",
   "id": "65178e40-60f4-4576-8135-8dfe52d4abf0",
   "metadata": {},
   "source": [
    "## Step 1: Retrieve example dataset\n",
    "The next step is to load the example dataset, which contains hourly solar irradiance data for DTU.\n",
    "\n",
    "The dataset is a typical meteorological year (TMY), meaning it consists of the most average month (irradiance wise) for a 10-year period. The data was retrieved from PVGIS, which we will investigate in the next lecture."
   ]
  },
  {
   "cell_type": "code",
   "execution_count": 4,
   "id": "46c848ab-fed4-4eb4-880b-2a302ca68d4e",
   "metadata": {},
   "outputs": [
    {
     "data": {
      "text/html": [
       "<div>\n",
       "<style scoped>\n",
       "    .dataframe tbody tr th:only-of-type {\n",
       "        vertical-align: middle;\n",
       "    }\n",
       "\n",
       "    .dataframe tbody tr th {\n",
       "        vertical-align: top;\n",
       "    }\n",
       "\n",
       "    .dataframe thead th {\n",
       "        text-align: right;\n",
       "    }\n",
       "</style>\n",
       "<table border=\"1\" class=\"dataframe\">\n",
       "  <thead>\n",
       "    <tr style=\"text-align: right;\">\n",
       "      <th></th>\n",
       "      <th>ghi</th>\n",
       "      <th>dhi</th>\n",
       "      <th>dni</th>\n",
       "    </tr>\n",
       "    <tr>\n",
       "      <th>time(UTC)</th>\n",
       "      <th></th>\n",
       "      <th></th>\n",
       "      <th></th>\n",
       "    </tr>\n",
       "  </thead>\n",
       "  <tbody>\n",
       "    <tr>\n",
       "      <th>1990-01-01 00:00:00+00:00</th>\n",
       "      <td>0.0</td>\n",
       "      <td>0.0</td>\n",
       "      <td>0.0</td>\n",
       "    </tr>\n",
       "    <tr>\n",
       "      <th>1990-01-01 01:00:00+00:00</th>\n",
       "      <td>0.0</td>\n",
       "      <td>0.0</td>\n",
       "      <td>0.0</td>\n",
       "    </tr>\n",
       "    <tr>\n",
       "      <th>1990-01-01 02:00:00+00:00</th>\n",
       "      <td>0.0</td>\n",
       "      <td>0.0</td>\n",
       "      <td>0.0</td>\n",
       "    </tr>\n",
       "    <tr>\n",
       "      <th>1990-01-01 03:00:00+00:00</th>\n",
       "      <td>0.0</td>\n",
       "      <td>0.0</td>\n",
       "      <td>0.0</td>\n",
       "    </tr>\n",
       "    <tr>\n",
       "      <th>1990-01-01 04:00:00+00:00</th>\n",
       "      <td>0.0</td>\n",
       "      <td>0.0</td>\n",
       "      <td>0.0</td>\n",
       "    </tr>\n",
       "  </tbody>\n",
       "</table>\n",
       "</div>"
      ],
      "text/plain": [
       "                           ghi  dhi  dni\n",
       "time(UTC)                               \n",
       "1990-01-01 00:00:00+00:00  0.0  0.0  0.0\n",
       "1990-01-01 01:00:00+00:00  0.0  0.0  0.0\n",
       "1990-01-01 02:00:00+00:00  0.0  0.0  0.0\n",
       "1990-01-01 03:00:00+00:00  0.0  0.0  0.0\n",
       "1990-01-01 04:00:00+00:00  0.0  0.0  0.0"
      ]
     },
     "execution_count": 4,
     "metadata": {},
     "output_type": "execute_result"
    }
   ],
   "source": [
    "file_url = 'https://raw.githubusercontent.com/AdamRJensen/solar-resource-course/refs/heads/main/data/example_annual_dataset.csv'\n",
    "\n",
    "data = pd.read_csv(file_url, index_col=[0], parse_dates=[0])\n",
    "\n",
    "data.head()"
   ]
  },
  {
   "cell_type": "markdown",
   "id": "227ed41c-40dc-476b-88a9-edd228a205e8",
   "metadata": {},
   "source": [
    "## Step 2: Calculate solar position"
   ]
  },
  {
   "cell_type": "code",
   "execution_count": 5,
   "id": "95e560a1-30fd-4c8b-810d-5daf1f1aeef7",
   "metadata": {},
   "outputs": [],
   "source": [
    "location = pvlib.location.Location(\n",
    "    latitude=55.79,\n",
    "    longitude=12.52,\n",
    ")\n",
    "\n",
    "solpos = location.get_solarposition(data.index)"
   ]
  },
  {
   "cell_type": "markdown",
   "id": "9ec7b1da-e7ed-491a-90e5-d1894866ee8a",
   "metadata": {},
   "source": [
    "## Step 3: Calculate extraterrestrial irradiance"
   ]
  },
  {
   "cell_type": "code",
   "execution_count": 6,
   "id": "93d016c8-c446-4f85-a0ac-c59552e7bcf4",
   "metadata": {},
   "outputs": [],
   "source": [
    "data['dni_extra'] = pvlib.irradiance.get_extra_radiation(data.index)"
   ]
  },
  {
   "cell_type": "markdown",
   "id": "a118d5f8-c5cb-4645-a320-6fd47cd5f4c5",
   "metadata": {},
   "source": [
    "## Step 3: Estimate in-plane irradiance\n",
    "\n",
    "Estimate the in-plane irradiance of a tilted surface using the [Hay-Davies model](https://pvlib-python.readthedocs.io/en/stable/reference/generated/pvlib.irradiance.haydavies.html). You may assume that the surface is tilted 30 degrees from horizontal and faces south.\n",
    "\n",
    "For convenience, you may use the [pvlib.irradiance.get_total_irradiance](https://pvlib-python.readthedocs.io/en/stable/reference/generated/pvlib.irradiance.get_total_irradiance.html) function."
   ]
  },
  {
   "cell_type": "code",
   "execution_count": null,
   "id": "31be9e51-4160-48ed-a424-f06c7bc4e7ea",
   "metadata": {},
   "outputs": [],
   "source": [
    "# Write your code here\n",
    "transposed_irradiance = "
   ]
  },
  {
   "cell_type": "markdown",
   "id": "55e7cd79-7cea-4ff3-81b9-3265b6f95cd5",
   "metadata": {},
   "source": [
    "## Step X: Determine which orientation has the highest annual solar irradiance\n",
    "\n",
    "Determine which orientation has the highest incident annual solar irradiance. You can either do this by manually trying different combinations, or you can write a for loop that calculates the in-plane irradiance for all combinations of tilt and azimuth (e.g., in 1-degree increments).\n",
    "\n",
    "*If you are feeling Python savvy, you can also use an optimization search algorithm to avoid having to search the entire design space.*\n"
   ]
  },
  {
   "cell_type": "code",
   "execution_count": null,
   "id": "005424c1-7713-4f6b-8882-d34f863b713b",
   "metadata": {},
   "outputs": [],
   "source": [
    "# write your code here"
   ]
  }
 ],
 "metadata": {
  "kernelspec": {
   "display_name": "Python 3 (ipykernel)",
   "language": "python",
   "name": "python3"
  },
  "language_info": {
   "codemirror_mode": {
    "name": "ipython",
    "version": 3
   },
   "file_extension": ".py",
   "mimetype": "text/x-python",
   "name": "python",
   "nbconvert_exporter": "python",
   "pygments_lexer": "ipython3",
   "version": "3.11.7"
  }
 },
 "nbformat": 4,
 "nbformat_minor": 5
}
